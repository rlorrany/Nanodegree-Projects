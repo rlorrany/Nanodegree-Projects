{
 "cells": [
  {
   "cell_type": "markdown",
   "metadata": {},
   "source": [
    "# *Capstone Project - Machine Learning Nanodegree Udacity*"
   ]
  },
  {
   "cell_type": "markdown",
   "metadata": {},
   "source": [
    "## Desafio *Kaggle* - Porto Seguro"
   ]
  },
  {
   "cell_type": "markdown",
   "metadata": {},
   "source": [
    "### Importando libs"
   ]
  },
  {
   "cell_type": "code",
   "execution_count": 1,
   "metadata": {
    "collapsed": true
   },
   "outputs": [],
   "source": [
    "import numpy as np\n",
    "import pandas as pd\n",
    "import matplotlib\n",
    "%matplotlib inline\n",
    "import matplotlib.pyplot as plt\n",
    "import seaborn as sns\n",
    "sns.set_style('whitegrid')\n",
    "sns.set_context('notebook')\n",
    "\n",
    "from sklearn.tree import DecisionTreeClassifier\n",
    "\n",
    "from sklearn.ensemble import RandomForestClassifier\n",
    "from sklearn.ensemble import GradientBoostingClassifier\n",
    "from sklearn.neighbors import KNeighborsClassifier\n",
    "from sklearn.linear_model import LogisticRegression\n",
    "from sklearn.naive_bayes import GaussianNB\n",
    "from sklearn.svm import SVC, LinearSVR\n",
    "\n",
    "from sklearn.model_selection import GridSearchCV\n",
    "from sklearn.model_selection import ShuffleSplit\n",
    "from sklearn.metrics import make_scorer, f1_score, fbeta_score, roc_auc_score, auc, roc_curve\n",
    "from sklearn.model_selection import StratifiedKFold\n",
    "\n",
    "from time import time"
   ]
  },
  {
   "cell_type": "markdown",
   "metadata": {},
   "source": [
    "### Leitura da base "
   ]
  },
  {
   "cell_type": "code",
   "execution_count": 2,
   "metadata": {
    "scrolled": true
   },
   "outputs": [
    {
     "name": "stdout",
     "output_type": "stream",
     "text": [
      "(595212, 59)\n"
     ]
    }
   ],
   "source": [
    "data = pd.read_csv('train/train.csv', na_values=\"-1\")\n",
    "print(data.shape)"
   ]
  },
  {
   "cell_type": "code",
   "execution_count": 3,
   "metadata": {},
   "outputs": [
    {
     "data": {
      "text/html": [
       "<div>\n",
       "<style>\n",
       "    .dataframe thead tr:only-child th {\n",
       "        text-align: right;\n",
       "    }\n",
       "\n",
       "    .dataframe thead th {\n",
       "        text-align: left;\n",
       "    }\n",
       "\n",
       "    .dataframe tbody tr th {\n",
       "        vertical-align: top;\n",
       "    }\n",
       "</style>\n",
       "<table border=\"1\" class=\"dataframe\">\n",
       "  <thead>\n",
       "    <tr style=\"text-align: right;\">\n",
       "      <th></th>\n",
       "      <th>id</th>\n",
       "      <th>target</th>\n",
       "      <th>ps_ind_01</th>\n",
       "      <th>ps_ind_02_cat</th>\n",
       "      <th>ps_ind_03</th>\n",
       "      <th>ps_ind_04_cat</th>\n",
       "      <th>ps_ind_05_cat</th>\n",
       "      <th>ps_ind_06_bin</th>\n",
       "      <th>ps_ind_07_bin</th>\n",
       "      <th>ps_ind_08_bin</th>\n",
       "      <th>...</th>\n",
       "      <th>ps_calc_11</th>\n",
       "      <th>ps_calc_12</th>\n",
       "      <th>ps_calc_13</th>\n",
       "      <th>ps_calc_14</th>\n",
       "      <th>ps_calc_15_bin</th>\n",
       "      <th>ps_calc_16_bin</th>\n",
       "      <th>ps_calc_17_bin</th>\n",
       "      <th>ps_calc_18_bin</th>\n",
       "      <th>ps_calc_19_bin</th>\n",
       "      <th>ps_calc_20_bin</th>\n",
       "    </tr>\n",
       "  </thead>\n",
       "  <tbody>\n",
       "    <tr>\n",
       "      <th>0</th>\n",
       "      <td>7</td>\n",
       "      <td>0</td>\n",
       "      <td>2</td>\n",
       "      <td>2.0</td>\n",
       "      <td>5</td>\n",
       "      <td>1.0</td>\n",
       "      <td>0.0</td>\n",
       "      <td>0</td>\n",
       "      <td>1</td>\n",
       "      <td>0</td>\n",
       "      <td>...</td>\n",
       "      <td>9</td>\n",
       "      <td>1</td>\n",
       "      <td>5</td>\n",
       "      <td>8</td>\n",
       "      <td>0</td>\n",
       "      <td>1</td>\n",
       "      <td>1</td>\n",
       "      <td>0</td>\n",
       "      <td>0</td>\n",
       "      <td>1</td>\n",
       "    </tr>\n",
       "    <tr>\n",
       "      <th>1</th>\n",
       "      <td>9</td>\n",
       "      <td>0</td>\n",
       "      <td>1</td>\n",
       "      <td>1.0</td>\n",
       "      <td>7</td>\n",
       "      <td>0.0</td>\n",
       "      <td>0.0</td>\n",
       "      <td>0</td>\n",
       "      <td>0</td>\n",
       "      <td>1</td>\n",
       "      <td>...</td>\n",
       "      <td>3</td>\n",
       "      <td>1</td>\n",
       "      <td>1</td>\n",
       "      <td>9</td>\n",
       "      <td>0</td>\n",
       "      <td>1</td>\n",
       "      <td>1</td>\n",
       "      <td>0</td>\n",
       "      <td>1</td>\n",
       "      <td>0</td>\n",
       "    </tr>\n",
       "    <tr>\n",
       "      <th>2</th>\n",
       "      <td>13</td>\n",
       "      <td>0</td>\n",
       "      <td>5</td>\n",
       "      <td>4.0</td>\n",
       "      <td>9</td>\n",
       "      <td>1.0</td>\n",
       "      <td>0.0</td>\n",
       "      <td>0</td>\n",
       "      <td>0</td>\n",
       "      <td>1</td>\n",
       "      <td>...</td>\n",
       "      <td>4</td>\n",
       "      <td>2</td>\n",
       "      <td>7</td>\n",
       "      <td>7</td>\n",
       "      <td>0</td>\n",
       "      <td>1</td>\n",
       "      <td>1</td>\n",
       "      <td>0</td>\n",
       "      <td>1</td>\n",
       "      <td>0</td>\n",
       "    </tr>\n",
       "    <tr>\n",
       "      <th>3</th>\n",
       "      <td>16</td>\n",
       "      <td>0</td>\n",
       "      <td>0</td>\n",
       "      <td>1.0</td>\n",
       "      <td>2</td>\n",
       "      <td>0.0</td>\n",
       "      <td>0.0</td>\n",
       "      <td>1</td>\n",
       "      <td>0</td>\n",
       "      <td>0</td>\n",
       "      <td>...</td>\n",
       "      <td>2</td>\n",
       "      <td>2</td>\n",
       "      <td>4</td>\n",
       "      <td>9</td>\n",
       "      <td>0</td>\n",
       "      <td>0</td>\n",
       "      <td>0</td>\n",
       "      <td>0</td>\n",
       "      <td>0</td>\n",
       "      <td>0</td>\n",
       "    </tr>\n",
       "    <tr>\n",
       "      <th>4</th>\n",
       "      <td>17</td>\n",
       "      <td>0</td>\n",
       "      <td>0</td>\n",
       "      <td>2.0</td>\n",
       "      <td>0</td>\n",
       "      <td>1.0</td>\n",
       "      <td>0.0</td>\n",
       "      <td>1</td>\n",
       "      <td>0</td>\n",
       "      <td>0</td>\n",
       "      <td>...</td>\n",
       "      <td>3</td>\n",
       "      <td>1</td>\n",
       "      <td>1</td>\n",
       "      <td>3</td>\n",
       "      <td>0</td>\n",
       "      <td>0</td>\n",
       "      <td>0</td>\n",
       "      <td>1</td>\n",
       "      <td>1</td>\n",
       "      <td>0</td>\n",
       "    </tr>\n",
       "  </tbody>\n",
       "</table>\n",
       "<p>5 rows × 59 columns</p>\n",
       "</div>"
      ],
      "text/plain": [
       "   id  target  ps_ind_01  ps_ind_02_cat  ps_ind_03  ps_ind_04_cat  \\\n",
       "0   7       0          2            2.0          5            1.0   \n",
       "1   9       0          1            1.0          7            0.0   \n",
       "2  13       0          5            4.0          9            1.0   \n",
       "3  16       0          0            1.0          2            0.0   \n",
       "4  17       0          0            2.0          0            1.0   \n",
       "\n",
       "   ps_ind_05_cat  ps_ind_06_bin  ps_ind_07_bin  ps_ind_08_bin       ...        \\\n",
       "0            0.0              0              1              0       ...         \n",
       "1            0.0              0              0              1       ...         \n",
       "2            0.0              0              0              1       ...         \n",
       "3            0.0              1              0              0       ...         \n",
       "4            0.0              1              0              0       ...         \n",
       "\n",
       "   ps_calc_11  ps_calc_12  ps_calc_13  ps_calc_14  ps_calc_15_bin  \\\n",
       "0           9           1           5           8               0   \n",
       "1           3           1           1           9               0   \n",
       "2           4           2           7           7               0   \n",
       "3           2           2           4           9               0   \n",
       "4           3           1           1           3               0   \n",
       "\n",
       "   ps_calc_16_bin  ps_calc_17_bin  ps_calc_18_bin  ps_calc_19_bin  \\\n",
       "0               1               1               0               0   \n",
       "1               1               1               0               1   \n",
       "2               1               1               0               1   \n",
       "3               0               0               0               0   \n",
       "4               0               0               1               1   \n",
       "\n",
       "   ps_calc_20_bin  \n",
       "0               1  \n",
       "1               0  \n",
       "2               0  \n",
       "3               0  \n",
       "4               0  \n",
       "\n",
       "[5 rows x 59 columns]"
      ]
     },
     "execution_count": 3,
     "metadata": {},
     "output_type": "execute_result"
    }
   ],
   "source": [
    "data.head()"
   ]
  },
  {
   "cell_type": "markdown",
   "metadata": {},
   "source": [
    "#### variável target tem 3,64% de incidência na base."
   ]
  },
  {
   "cell_type": "code",
   "execution_count": 4,
   "metadata": {},
   "outputs": [
    {
     "data": {
      "text/html": [
       "<div>\n",
       "<style>\n",
       "    .dataframe thead tr:only-child th {\n",
       "        text-align: right;\n",
       "    }\n",
       "\n",
       "    .dataframe thead th {\n",
       "        text-align: left;\n",
       "    }\n",
       "\n",
       "    .dataframe tbody tr th {\n",
       "        vertical-align: top;\n",
       "    }\n",
       "</style>\n",
       "<table border=\"1\" class=\"dataframe\">\n",
       "  <thead>\n",
       "    <tr style=\"text-align: right;\">\n",
       "      <th></th>\n",
       "      <th># target</th>\n",
       "      <th>% target</th>\n",
       "    </tr>\n",
       "  </thead>\n",
       "  <tbody>\n",
       "    <tr>\n",
       "      <th>0</th>\n",
       "      <td>573518</td>\n",
       "      <td>96.355248</td>\n",
       "    </tr>\n",
       "    <tr>\n",
       "      <th>1</th>\n",
       "      <td>21694</td>\n",
       "      <td>3.644752</td>\n",
       "    </tr>\n",
       "  </tbody>\n",
       "</table>\n",
       "</div>"
      ],
      "text/plain": [
       "   # target   % target\n",
       "0    573518  96.355248\n",
       "1     21694   3.644752"
      ]
     },
     "execution_count": 4,
     "metadata": {},
     "output_type": "execute_result"
    }
   ],
   "source": [
    "count = pd.DataFrame(data['target'].value_counts())\n",
    "percent = pd.DataFrame(data['target'].value_counts(normalize=True)*100)\n",
    "table = pd.concat([count, percent], axis=1)\n",
    "table.columns = ['# target', '% target']\n",
    "table"
   ]
  },
  {
   "cell_type": "markdown",
   "metadata": {},
   "source": [
    "#### separação em base treino e base teste"
   ]
  },
  {
   "cell_type": "code",
   "execution_count": 5,
   "metadata": {},
   "outputs": [
    {
     "name": "stdout",
     "output_type": "stream",
     "text": [
      "Training set has 416648 samples and 57 features.\n",
      "Testing set has 178564 samples and 57 features.\n"
     ]
    }
   ],
   "source": [
    "from sklearn.model_selection import train_test_split\n",
    "\n",
    "#id_all = \n",
    "X_all = data.iloc[:,2:]\n",
    "y_all = data.target\n",
    "\n",
    "X_train, X_test, y_train, y_test = train_test_split(X_all, y_all, test_size = 0.30 ,random_state = 791231)\n",
    "\n",
    "print \"Training set has {} samples and {} features.\".format(X_train.shape[0], X_train.shape[1])\n",
    "print \"Testing set has {} samples and {} features.\".format(X_test.shape[0], X_test.shape[1])\n"
   ]
  },
  {
   "cell_type": "markdown",
   "metadata": {},
   "source": [
    "#### criando variável de quantidade de missing"
   ]
  },
  {
   "cell_type": "code",
   "execution_count": 6,
   "metadata": {},
   "outputs": [
    {
     "name": "stderr",
     "output_type": "stream",
     "text": [
      "C:\\Users\\rhais\\Anaconda2\\lib\\site-packages\\pandas\\core\\indexing.py:337: SettingWithCopyWarning: \n",
      "A value is trying to be set on a copy of a slice from a DataFrame.\n",
      "Try using .loc[row_indexer,col_indexer] = value instead\n",
      "\n",
      "See the caveats in the documentation: http://pandas.pydata.org/pandas-docs/stable/indexing.html#indexing-view-versus-copy\n",
      "  self.obj[key] = _infer_fill_value(value)\n",
      "C:\\Users\\rhais\\Anaconda2\\lib\\site-packages\\pandas\\core\\indexing.py:517: SettingWithCopyWarning: \n",
      "A value is trying to be set on a copy of a slice from a DataFrame.\n",
      "Try using .loc[row_indexer,col_indexer] = value instead\n",
      "\n",
      "See the caveats in the documentation: http://pandas.pydata.org/pandas-docs/stable/indexing.html#indexing-view-versus-copy\n",
      "  self.obj[item] = s\n"
     ]
    },
    {
     "name": "stdout",
     "output_type": "stream",
     "text": [
      "           % cat  % target\n",
      "n_miss                    \n",
      "0       0.209112  0.045073\n",
      "1       0.261739  0.036212\n",
      "2       0.429847  0.033692\n",
      "3       0.094226  0.027408\n",
      "4       0.004961  0.027092\n",
      "6       0.000026  0.636364\n",
      "7       0.000082  0.441176\n",
      "8       0.000007  0.333333\n"
     ]
    }
   ],
   "source": [
    "temp = X_train.isnull().sum(axis=1)\n",
    "X_train.loc[:,'n_miss']=temp\n",
    "X_train.n_miss.value_counts(normalize=True)\n",
    "\n",
    "table = pd.crosstab(X_train.n_miss, y_train)\n",
    "sum_line = table.apply(lambda x:x.sum(),axis = 1)\n",
    "p_target = table.iloc[:,1]/sum_line\n",
    "p_total = sum_line / sum((sum(table.iloc[:,0]), sum(table.iloc[:,1])))\n",
    "df = pd.concat([p_total, p_target ], axis=1)\n",
    "df.columns = ['% cat', '% target']\n",
    "print(df)"
   ]
  },
  {
   "cell_type": "markdown",
   "metadata": {},
   "source": [
    "#### Métrica gini normalizado será utilizada para avaliação do modelo"
   ]
  },
  {
   "cell_type": "code",
   "execution_count": 7,
   "metadata": {
    "collapsed": true
   },
   "outputs": [],
   "source": [
    "def gini(actual, pred, cmpcol = 0, sortcol = 1):\n",
    "    assert( len(actual) == len(pred) )\n",
    "    all = np.asarray(np.c_[ actual, pred, np.arange(len(actual)) ], dtype=np.float)\n",
    "    all = all[ np.lexsort((all[:,2], -1*all[:,1])) ]\n",
    "    totalLosses = all[:,0].sum()\n",
    "    giniSum = all[:,0].cumsum().sum() / totalLosses\n",
    " \n",
    "    giniSum -= (len(actual) + 1) / 2.\n",
    "    return giniSum / len(actual)\n",
    "\n",
    "def gini_normalized(a, p):\n",
    "    return gini(a, p[:,1]) / gini(a, a)        "
   ]
  },
  {
   "cell_type": "code",
   "execution_count": 8,
   "metadata": {
    "collapsed": true
   },
   "outputs": [],
   "source": [
    "def gini_normalized_xgboost(a, p):\n",
    "    return gini(a, p) / gini(a, a)        "
   ]
  },
  {
   "cell_type": "markdown",
   "metadata": {},
   "source": [
    "### Explorando os dados\n",
    "#### Criando uma base com a quantidade de valores únicos de cada variável e percentual de *missings*:"
   ]
  },
  {
   "cell_type": "markdown",
   "metadata": {},
   "source": [
    "Sobre a quantidade de valores é possível observar:\n",
    "- algumas variáveis categóricas possuem grande quantidade de categorias: *ps_car_06_cat*, *ps_car_11_cat*, com 18 e 104 categorias respectivamente. Essas não terão tratamento de dummies mais pra frente para o processo de modelagem pois aumentariam muito o número de colunas.\n",
    "- As variáveis categóricas e seu percentual da variável resposta serão analisados mais pra frente graficamente."
   ]
  },
  {
   "cell_type": "code",
   "execution_count": 9,
   "metadata": {},
   "outputs": [
    {
     "data": {
      "text/html": [
       "<div>\n",
       "<style>\n",
       "    .dataframe thead tr:only-child th {\n",
       "        text-align: right;\n",
       "    }\n",
       "\n",
       "    .dataframe thead th {\n",
       "        text-align: left;\n",
       "    }\n",
       "\n",
       "    .dataframe tbody tr th {\n",
       "        vertical-align: top;\n",
       "    }\n",
       "</style>\n",
       "<table border=\"1\" class=\"dataframe\">\n",
       "  <thead>\n",
       "    <tr style=\"text-align: right;\">\n",
       "      <th></th>\n",
       "      <th>var</th>\n",
       "      <th># unique values</th>\n",
       "    </tr>\n",
       "  </thead>\n",
       "  <tbody>\n",
       "    <tr>\n",
       "      <th>0</th>\n",
       "      <td>ps_ind_01</td>\n",
       "      <td>8</td>\n",
       "    </tr>\n",
       "    <tr>\n",
       "      <th>1</th>\n",
       "      <td>ps_ind_02_cat</td>\n",
       "      <td>5</td>\n",
       "    </tr>\n",
       "    <tr>\n",
       "      <th>2</th>\n",
       "      <td>ps_ind_03</td>\n",
       "      <td>12</td>\n",
       "    </tr>\n",
       "    <tr>\n",
       "      <th>3</th>\n",
       "      <td>ps_ind_04_cat</td>\n",
       "      <td>3</td>\n",
       "    </tr>\n",
       "    <tr>\n",
       "      <th>4</th>\n",
       "      <td>ps_ind_05_cat</td>\n",
       "      <td>8</td>\n",
       "    </tr>\n",
       "    <tr>\n",
       "      <th>5</th>\n",
       "      <td>ps_ind_06_bin</td>\n",
       "      <td>2</td>\n",
       "    </tr>\n",
       "    <tr>\n",
       "      <th>6</th>\n",
       "      <td>ps_ind_07_bin</td>\n",
       "      <td>2</td>\n",
       "    </tr>\n",
       "    <tr>\n",
       "      <th>7</th>\n",
       "      <td>ps_ind_08_bin</td>\n",
       "      <td>2</td>\n",
       "    </tr>\n",
       "    <tr>\n",
       "      <th>8</th>\n",
       "      <td>ps_ind_09_bin</td>\n",
       "      <td>2</td>\n",
       "    </tr>\n",
       "    <tr>\n",
       "      <th>9</th>\n",
       "      <td>ps_ind_10_bin</td>\n",
       "      <td>2</td>\n",
       "    </tr>\n",
       "    <tr>\n",
       "      <th>10</th>\n",
       "      <td>ps_ind_11_bin</td>\n",
       "      <td>2</td>\n",
       "    </tr>\n",
       "    <tr>\n",
       "      <th>11</th>\n",
       "      <td>ps_ind_12_bin</td>\n",
       "      <td>2</td>\n",
       "    </tr>\n",
       "    <tr>\n",
       "      <th>12</th>\n",
       "      <td>ps_ind_13_bin</td>\n",
       "      <td>2</td>\n",
       "    </tr>\n",
       "    <tr>\n",
       "      <th>13</th>\n",
       "      <td>ps_ind_14</td>\n",
       "      <td>5</td>\n",
       "    </tr>\n",
       "    <tr>\n",
       "      <th>14</th>\n",
       "      <td>ps_ind_15</td>\n",
       "      <td>14</td>\n",
       "    </tr>\n",
       "    <tr>\n",
       "      <th>15</th>\n",
       "      <td>ps_ind_16_bin</td>\n",
       "      <td>2</td>\n",
       "    </tr>\n",
       "    <tr>\n",
       "      <th>16</th>\n",
       "      <td>ps_ind_17_bin</td>\n",
       "      <td>2</td>\n",
       "    </tr>\n",
       "    <tr>\n",
       "      <th>17</th>\n",
       "      <td>ps_ind_18_bin</td>\n",
       "      <td>2</td>\n",
       "    </tr>\n",
       "    <tr>\n",
       "      <th>18</th>\n",
       "      <td>ps_reg_01</td>\n",
       "      <td>10</td>\n",
       "    </tr>\n",
       "    <tr>\n",
       "      <th>19</th>\n",
       "      <td>ps_reg_02</td>\n",
       "      <td>19</td>\n",
       "    </tr>\n",
       "    <tr>\n",
       "      <th>20</th>\n",
       "      <td>ps_reg_03</td>\n",
       "      <td>4963</td>\n",
       "    </tr>\n",
       "    <tr>\n",
       "      <th>21</th>\n",
       "      <td>ps_car_01_cat</td>\n",
       "      <td>13</td>\n",
       "    </tr>\n",
       "    <tr>\n",
       "      <th>22</th>\n",
       "      <td>ps_car_02_cat</td>\n",
       "      <td>3</td>\n",
       "    </tr>\n",
       "    <tr>\n",
       "      <th>23</th>\n",
       "      <td>ps_car_03_cat</td>\n",
       "      <td>3</td>\n",
       "    </tr>\n",
       "    <tr>\n",
       "      <th>24</th>\n",
       "      <td>ps_car_04_cat</td>\n",
       "      <td>10</td>\n",
       "    </tr>\n",
       "    <tr>\n",
       "      <th>25</th>\n",
       "      <td>ps_car_05_cat</td>\n",
       "      <td>3</td>\n",
       "    </tr>\n",
       "    <tr>\n",
       "      <th>26</th>\n",
       "      <td>ps_car_06_cat</td>\n",
       "      <td>18</td>\n",
       "    </tr>\n",
       "    <tr>\n",
       "      <th>27</th>\n",
       "      <td>ps_car_07_cat</td>\n",
       "      <td>3</td>\n",
       "    </tr>\n",
       "    <tr>\n",
       "      <th>28</th>\n",
       "      <td>ps_car_08_cat</td>\n",
       "      <td>2</td>\n",
       "    </tr>\n",
       "    <tr>\n",
       "      <th>29</th>\n",
       "      <td>ps_car_09_cat</td>\n",
       "      <td>6</td>\n",
       "    </tr>\n",
       "    <tr>\n",
       "      <th>30</th>\n",
       "      <td>ps_car_10_cat</td>\n",
       "      <td>3</td>\n",
       "    </tr>\n",
       "    <tr>\n",
       "      <th>31</th>\n",
       "      <td>ps_car_11_cat</td>\n",
       "      <td>104</td>\n",
       "    </tr>\n",
       "    <tr>\n",
       "      <th>32</th>\n",
       "      <td>ps_car_11</td>\n",
       "      <td>5</td>\n",
       "    </tr>\n",
       "    <tr>\n",
       "      <th>33</th>\n",
       "      <td>ps_car_12</td>\n",
       "      <td>174</td>\n",
       "    </tr>\n",
       "    <tr>\n",
       "      <th>34</th>\n",
       "      <td>ps_car_13</td>\n",
       "      <td>60635</td>\n",
       "    </tr>\n",
       "    <tr>\n",
       "      <th>35</th>\n",
       "      <td>ps_car_14</td>\n",
       "      <td>831</td>\n",
       "    </tr>\n",
       "    <tr>\n",
       "      <th>36</th>\n",
       "      <td>ps_car_15</td>\n",
       "      <td>15</td>\n",
       "    </tr>\n",
       "    <tr>\n",
       "      <th>37</th>\n",
       "      <td>ps_calc_01</td>\n",
       "      <td>10</td>\n",
       "    </tr>\n",
       "    <tr>\n",
       "      <th>38</th>\n",
       "      <td>ps_calc_02</td>\n",
       "      <td>10</td>\n",
       "    </tr>\n",
       "    <tr>\n",
       "      <th>39</th>\n",
       "      <td>ps_calc_03</td>\n",
       "      <td>10</td>\n",
       "    </tr>\n",
       "    <tr>\n",
       "      <th>40</th>\n",
       "      <td>ps_calc_04</td>\n",
       "      <td>6</td>\n",
       "    </tr>\n",
       "    <tr>\n",
       "      <th>41</th>\n",
       "      <td>ps_calc_05</td>\n",
       "      <td>7</td>\n",
       "    </tr>\n",
       "    <tr>\n",
       "      <th>42</th>\n",
       "      <td>ps_calc_06</td>\n",
       "      <td>11</td>\n",
       "    </tr>\n",
       "    <tr>\n",
       "      <th>43</th>\n",
       "      <td>ps_calc_07</td>\n",
       "      <td>10</td>\n",
       "    </tr>\n",
       "    <tr>\n",
       "      <th>44</th>\n",
       "      <td>ps_calc_08</td>\n",
       "      <td>11</td>\n",
       "    </tr>\n",
       "    <tr>\n",
       "      <th>45</th>\n",
       "      <td>ps_calc_09</td>\n",
       "      <td>8</td>\n",
       "    </tr>\n",
       "    <tr>\n",
       "      <th>46</th>\n",
       "      <td>ps_calc_10</td>\n",
       "      <td>25</td>\n",
       "    </tr>\n",
       "    <tr>\n",
       "      <th>47</th>\n",
       "      <td>ps_calc_11</td>\n",
       "      <td>20</td>\n",
       "    </tr>\n",
       "    <tr>\n",
       "      <th>48</th>\n",
       "      <td>ps_calc_12</td>\n",
       "      <td>11</td>\n",
       "    </tr>\n",
       "    <tr>\n",
       "      <th>49</th>\n",
       "      <td>ps_calc_13</td>\n",
       "      <td>13</td>\n",
       "    </tr>\n",
       "    <tr>\n",
       "      <th>50</th>\n",
       "      <td>ps_calc_14</td>\n",
       "      <td>24</td>\n",
       "    </tr>\n",
       "    <tr>\n",
       "      <th>51</th>\n",
       "      <td>ps_calc_15_bin</td>\n",
       "      <td>2</td>\n",
       "    </tr>\n",
       "    <tr>\n",
       "      <th>52</th>\n",
       "      <td>ps_calc_16_bin</td>\n",
       "      <td>2</td>\n",
       "    </tr>\n",
       "    <tr>\n",
       "      <th>53</th>\n",
       "      <td>ps_calc_17_bin</td>\n",
       "      <td>2</td>\n",
       "    </tr>\n",
       "    <tr>\n",
       "      <th>54</th>\n",
       "      <td>ps_calc_18_bin</td>\n",
       "      <td>2</td>\n",
       "    </tr>\n",
       "    <tr>\n",
       "      <th>55</th>\n",
       "      <td>ps_calc_19_bin</td>\n",
       "      <td>2</td>\n",
       "    </tr>\n",
       "    <tr>\n",
       "      <th>56</th>\n",
       "      <td>ps_calc_20_bin</td>\n",
       "      <td>2</td>\n",
       "    </tr>\n",
       "    <tr>\n",
       "      <th>57</th>\n",
       "      <td>n_miss</td>\n",
       "      <td>8</td>\n",
       "    </tr>\n",
       "  </tbody>\n",
       "</table>\n",
       "</div>"
      ],
      "text/plain": [
       "               var  # unique values\n",
       "0        ps_ind_01                8\n",
       "1    ps_ind_02_cat                5\n",
       "2        ps_ind_03               12\n",
       "3    ps_ind_04_cat                3\n",
       "4    ps_ind_05_cat                8\n",
       "5    ps_ind_06_bin                2\n",
       "6    ps_ind_07_bin                2\n",
       "7    ps_ind_08_bin                2\n",
       "8    ps_ind_09_bin                2\n",
       "9    ps_ind_10_bin                2\n",
       "10   ps_ind_11_bin                2\n",
       "11   ps_ind_12_bin                2\n",
       "12   ps_ind_13_bin                2\n",
       "13       ps_ind_14                5\n",
       "14       ps_ind_15               14\n",
       "15   ps_ind_16_bin                2\n",
       "16   ps_ind_17_bin                2\n",
       "17   ps_ind_18_bin                2\n",
       "18       ps_reg_01               10\n",
       "19       ps_reg_02               19\n",
       "20       ps_reg_03             4963\n",
       "21   ps_car_01_cat               13\n",
       "22   ps_car_02_cat                3\n",
       "23   ps_car_03_cat                3\n",
       "24   ps_car_04_cat               10\n",
       "25   ps_car_05_cat                3\n",
       "26   ps_car_06_cat               18\n",
       "27   ps_car_07_cat                3\n",
       "28   ps_car_08_cat                2\n",
       "29   ps_car_09_cat                6\n",
       "30   ps_car_10_cat                3\n",
       "31   ps_car_11_cat              104\n",
       "32       ps_car_11                5\n",
       "33       ps_car_12              174\n",
       "34       ps_car_13            60635\n",
       "35       ps_car_14              831\n",
       "36       ps_car_15               15\n",
       "37      ps_calc_01               10\n",
       "38      ps_calc_02               10\n",
       "39      ps_calc_03               10\n",
       "40      ps_calc_04                6\n",
       "41      ps_calc_05                7\n",
       "42      ps_calc_06               11\n",
       "43      ps_calc_07               10\n",
       "44      ps_calc_08               11\n",
       "45      ps_calc_09                8\n",
       "46      ps_calc_10               25\n",
       "47      ps_calc_11               20\n",
       "48      ps_calc_12               11\n",
       "49      ps_calc_13               13\n",
       "50      ps_calc_14               24\n",
       "51  ps_calc_15_bin                2\n",
       "52  ps_calc_16_bin                2\n",
       "53  ps_calc_17_bin                2\n",
       "54  ps_calc_18_bin                2\n",
       "55  ps_calc_19_bin                2\n",
       "56  ps_calc_20_bin                2\n",
       "57          n_miss                8"
      ]
     },
     "execution_count": 9,
     "metadata": {},
     "output_type": "execute_result"
    }
   ],
   "source": [
    "#count unique values in columns and plot\n",
    "len_array = []\n",
    "for var in X_train.columns:\n",
    "    current_len  = len(X_train[var].unique())\n",
    "    len_array.append(current_len)\n",
    "\n",
    "missing = pd.DataFrame(np.array(X_train.isnull().sum()), columns = ['missing'])\n",
    "p_missing = missing / X_train.shape[0]\n",
    "\n",
    "qtd = pd.concat([pd.DataFrame(X_train.columns), pd.DataFrame(len_array), missing.missing, pd.DataFrame(p_missing)], axis = 1)\n",
    "qtd.columns = ['var', '# unique values', '# missing','% missing']\n",
    "\n",
    "qtd.iloc[:,0:2 ]"
   ]
  },
  {
   "cell_type": "markdown",
   "metadata": {},
   "source": [
    "Sobre os *missings*:\n",
    "- temos 13 variáveis com alguma quantidade de missings;\n",
    "- das variáveis categóricas: *ps_car_03_cat* possui 70% de missings e em seguida *ps_car_05_cat* com 45% de missings.\n",
    "- das não categóricas *ps_reg_03* e *ps_car_14* com 18% e 7%, respectivamente.\n",
    "\n",
    "Forma de tratamento:\n",
    "- no caso das categóricas preenchimento com um outro número (99) representando a categoria missing (avaliaremos graficamente se faz sentido mantê-las separadas);\n",
    "- no caso das numéricas aplicação da média e mediana."
   ]
  },
  {
   "cell_type": "code",
   "execution_count": 10,
   "metadata": {},
   "outputs": [
    {
     "name": "stdout",
     "output_type": "stream",
     "text": [
      "              var  # unique values  # missing  % missing\n",
      "23  ps_car_03_cat                3     288187   0.691680\n",
      "25  ps_car_05_cat                3     187199   0.449298\n",
      "20      ps_reg_03             4963      75543   0.181311\n",
      "35      ps_car_14              831      29776   0.071466\n",
      "27  ps_car_07_cat                3       8128   0.019508\n",
      "4   ps_ind_05_cat                8       4122   0.009893\n",
      "29  ps_car_09_cat                6        400   0.000960\n",
      "1   ps_ind_02_cat                5        139   0.000334\n",
      "21  ps_car_01_cat               13         63   0.000151\n",
      "3   ps_ind_04_cat                3         52   0.000125\n",
      "32      ps_car_11                5          4   0.000010\n",
      "22  ps_car_02_cat                3          2   0.000005\n",
      "33      ps_car_12              174          1   0.000002\n",
      "47     ps_calc_11               20          0   0.000000\n",
      "40     ps_calc_04                6          0   0.000000\n"
     ]
    },
    {
     "data": {
      "image/png": "[encoded data removed]",
      "text/plain": [
       "<matplotlib.figure.Figure at 0xe60ae80>"
      ]
     },
     "metadata": {},
     "output_type": "display_data"
    }
   ],
   "source": [
    "qtd = qtd.sort_values(by = '% missing', ascending = False)\n",
    "print(qtd.iloc[0:15,:])\n",
    "\n",
    "fig = plt.figure()\n",
    "plt.style.use('ggplot')\n",
    "ax1 = fig.add_subplot(111)\n",
    "qtd.iloc[0:15,3].plot(kind = 'bar',ax=ax1)\n",
    "ax1.set_xticklabels(qtd.iloc[0:15,0], rotation='45', fontsize=12)\n",
    "\n",
    "plt.show()"
   ]
  },
  {
   "cell_type": "markdown",
   "metadata": {},
   "source": [
    "#### Utilizando a orientação, realizando separação das variáveis binárias, das categóricas e das demais para respectivos tratamentos de *missings* e outras análises gráficas.\n"
   ]
  },
  {
   "cell_type": "code",
   "execution_count": 11,
   "metadata": {},
   "outputs": [
    {
     "name": "stdout",
     "output_type": "stream",
     "text": [
      "['ps_ind_02_cat', 'ps_ind_04_cat', 'ps_ind_05_cat', 'ps_car_01_cat', 'ps_car_02_cat', 'ps_car_03_cat', 'ps_car_04_cat', 'ps_car_05_cat', 'ps_car_06_cat', 'ps_car_07_cat', 'ps_car_08_cat', 'ps_car_09_cat', 'ps_car_10_cat', 'ps_car_11_cat']\n",
      "\n",
      "\n",
      "['ps_ind_06_bin', 'ps_ind_07_bin', 'ps_ind_08_bin', 'ps_ind_09_bin', 'ps_ind_10_bin', 'ps_ind_11_bin', 'ps_ind_12_bin', 'ps_ind_13_bin', 'ps_ind_16_bin', 'ps_ind_17_bin', 'ps_ind_18_bin', 'ps_calc_15_bin', 'ps_calc_16_bin', 'ps_calc_17_bin', 'ps_calc_18_bin', 'ps_calc_19_bin', 'ps_calc_20_bin']\n",
      "\n",
      "\n",
      "['ps_ind_01', 'ps_ind_03', 'ps_ind_14', 'ps_ind_15', 'ps_reg_01', 'ps_reg_02', 'ps_reg_03', 'ps_car_11', 'ps_car_12', 'ps_car_13', 'ps_car_14', 'ps_car_15', 'ps_calc_01', 'ps_calc_02', 'ps_calc_03', 'ps_calc_04', 'ps_calc_05', 'ps_calc_06', 'ps_calc_07', 'ps_calc_08', 'ps_calc_09', 'ps_calc_10', 'ps_calc_11', 'ps_calc_12', 'ps_calc_13', 'ps_calc_14', 'n_miss']\n"
     ]
    }
   ],
   "source": [
    "x_cols = np.array(X_train.columns)\n",
    "names_bin = filter(lambda x: x.endswith('_bin'), x_cols)\n",
    "names_cat = filter(lambda x: x.endswith('_cat'), x_cols)\n",
    "names_others = filter(lambda x: not x in names_cat + names_bin, x_cols)\n",
    "\n",
    "print(names_cat) \n",
    "print('\\n')\n",
    "print(names_bin)\n",
    "print('\\n')\n",
    "print(names_others)"
   ]
  },
  {
   "cell_type": "markdown",
   "metadata": {},
   "source": [
    "Ajustando todas categóricas ou binárias para 99."
   ]
  },
  {
   "cell_type": "code",
   "execution_count": 12,
   "metadata": {
    "collapsed": true
   },
   "outputs": [],
   "source": [
    "for var in names_cat:\n",
    "    X_train.loc[:, var] = X_train.loc[:,var].fillna(999)\n",
    "for var in names_bin:\n",
    "    X_train.loc[:, var] = X_train.loc[:,var].fillna(999)"
   ]
  },
  {
   "cell_type": "markdown",
   "metadata": {},
   "source": [
    "No caso da ps_reg_03 ajustado missing para a mediana"
   ]
  },
  {
   "cell_type": "code",
   "execution_count": 13,
   "metadata": {},
   "outputs": [
    {
     "name": "stderr",
     "output_type": "stream",
     "text": [
      "C:\\Users\\rhais\\Anaconda2\\lib\\site-packages\\ipykernel_launcher.py:3: SettingWithCopyWarning: \n",
      "A value is trying to be set on a copy of a slice from a DataFrame.\n",
      "Try using .loc[row_indexer,col_indexer] = value instead\n",
      "\n",
      "See the caveats in the documentation: http://pandas.pydata.org/pandas-docs/stable/indexing.html#indexing-view-versus-copy\n",
      "  This is separate from the ipykernel package so we can avoid doing imports until\n"
     ]
    }
   ],
   "source": [
    "med_ps_reg03 = X_train['ps_reg_03'].median()\n",
    "\n",
    "X_train['ps_reg_03_MED'] = X_train['ps_reg_03'].fillna(med_ps_reg03)\n"
   ]
  },
  {
   "cell_type": "markdown",
   "metadata": {},
   "source": [
    "As demais variáveis numéricas que apareceram na base serão substituídas pela respectiva mediana da coluna."
   ]
  },
  {
   "cell_type": "code",
   "execution_count": 14,
   "metadata": {
    "collapsed": true
   },
   "outputs": [],
   "source": [
    "train_median =  X_train.apply(lambda x: x.median(), axis = 0)\n",
    "for i in range(len(X_train.columns)):\n",
    "    X_train.iloc[:, i] = X_train.iloc[:, i].fillna(train_median[i])"
   ]
  },
  {
   "cell_type": "markdown",
   "metadata": {},
   "source": [
    "### Visualização exploratória: \"Porto Seguro - Descritivas.ipynb\"\n"
   ]
  },
  {
   "cell_type": "markdown",
   "metadata": {},
   "source": [
    "#### agrupamento da variável *ps_car_11_cat* \n",
    "Dado a alta quantidade de categorias, será testado no modelo sua entrada como numérica e também com um agrupamento considerando a variável target, com valores de 1 a 10."
   ]
  },
  {
   "cell_type": "code",
   "execution_count": 15,
   "metadata": {},
   "outputs": [
    {
     "name": "stderr",
     "output_type": "stream",
     "text": [
      "C:\\Users\\rhais\\Anaconda2\\lib\\site-packages\\ipykernel_launcher.py:25: SettingWithCopyWarning: \n",
      "A value is trying to be set on a copy of a slice from a DataFrame.\n",
      "Try using .loc[row_indexer,col_indexer] = value instead\n",
      "\n",
      "See the caveats in the documentation: http://pandas.pydata.org/pandas-docs/stable/indexing.html#indexing-view-versus-copy\n"
     ]
    }
   ],
   "source": [
    "def transf_car11cat (elemento):\n",
    "    if elemento in [41,18,75,63,58]:\n",
    "        return 1\n",
    "    elif elemento in [56, 93,71,69, 21,97,55,72,4,33,100,89, 3, 94]:\n",
    "        return 2\n",
    "    elif elemento in [61, 13, 17, 20, 14, 90,104]:\n",
    "        return 3\n",
    "    elif elemento in [54, 45, 50, 28, 1, 79, 5, 31, 73, 80, 47, 2, 12]:\n",
    "        return 4\n",
    "    elif elemento in [12, 27, 8, 25, 24, 6, 46, 101, 91, 92, 81, 70, 29]:\n",
    "        return 5\n",
    "    elif elemento in [76, 83, 35, 15, 78, 36, 77, 34, 52, 40, 23]:\n",
    "        return 6\n",
    "    elif elemento in [51, 102, 26, 59, 22, 68, 60, 49, 87, 74, 53, 88, 85, 86, 84, 48, 96, 9]:\n",
    "        return 7\n",
    "    elif elemento in [38, 11, 62, 65, 98, 64, 37, 42, 95]:\n",
    "        return 8\n",
    "    elif elemento in [66, 7, 30, 82, 103, 16, 10, 44]:\n",
    "        return 9\n",
    "    elif elemento in [32, 57, 67, 39, 99, 19, 43]:\n",
    "        return 10\n",
    "    else:\n",
    "        return 10\n",
    "\n",
    "X_train['ps_car_11_cat_v2'] = map(transf_car11cat , X_train['ps_car_11_cat'])\n",
    "#print(X_train['ps_car_11_cat_v2'].value_counts())\n",
    "#print(X_train['ps_car_11_cat'].value_counts())\n",
    "\n",
    "\n"
   ]
  },
  {
   "cell_type": "markdown",
   "metadata": {},
   "source": [
    "#### quais variáveis serão dummizadas -> exclusão das que possuem muitas categorias"
   ]
  },
  {
   "cell_type": "code",
   "execution_count": 16,
   "metadata": {},
   "outputs": [
    {
     "name": "stdout",
     "output_type": "stream",
     "text": [
      "['ps_ind_02_cat', 'ps_ind_04_cat', 'ps_ind_05_cat', 'ps_car_02_cat', 'ps_car_03_cat', 'ps_car_04_cat', 'ps_car_05_cat', 'ps_car_07_cat', 'ps_car_08_cat', 'ps_car_09_cat', 'ps_car_10_cat']\n"
     ]
    }
   ],
   "source": [
    "exclusao_dummies  = ['ps_car_11_cat','ps_car_06_cat','ps_car_01_cat']                  \n",
    "                    \n",
    "names_to_dummies = names_cat\n",
    "#new_columns = ['ps_car_06_cat_v2',  'ps_car_04_cat_v2', 'ps_car_01_cat_v2','n_miss_v2']\n",
    "\n",
    "names_to_dummies2 = filter(lambda x: x not in exclusao_dummies, names_to_dummies)\n",
    "print(names_to_dummies2)\n",
    "\n",
    "X_train = pd.get_dummies(X_train, columns = names_to_dummies2)\n",
    "#print(X_train.columns)\n"
   ]
  },
  {
   "cell_type": "markdown",
   "metadata": {},
   "source": [
    "#### Método para limpar colunas da base treino identificando as variáveis categóricas com variância próxima de zero, no caso todas em que a relação entre a primeira e segunda categoria é de 99 para 1."
   ]
  },
  {
   "cell_type": "code",
   "execution_count": 17,
   "metadata": {
    "collapsed": true
   },
   "outputs": [],
   "source": [
    "def nearZeroVariance (v, freqCut, uniqueCut = 0.10):\n",
    "    if len (v.value_counts()) == 1:\n",
    "        return True\n",
    "    mostFrequent = v.value_counts()[v.value_counts().keys()[0]]\n",
    "    secondMostFrequent = v.value_counts()[v.value_counts().keys()[1]]\n",
    "    if mostFrequent / secondMostFrequent >= freqCut and len (v.value_counts()) / len (v) <= uniqueCut:\n",
    "            return True\n",
    "    return False\n",
    "\n",
    "\n",
    "    #print(i, nzv)"
   ]
  },
  {
   "cell_type": "code",
   "execution_count": 18,
   "metadata": {},
   "outputs": [
    {
     "name": "stdout",
     "output_type": "stream",
     "text": [
      "columns will be dropped:\n",
      "                      nzv\n",
      "ps_ind_10_bin        True\n",
      "ps_ind_11_bin        True\n",
      "ps_ind_12_bin        True\n",
      "ps_ind_13_bin        True\n",
      "ps_ind_14            True\n",
      "ps_reg_03            True\n",
      "ps_reg_03_MED        True\n",
      "ps_ind_02_cat_999.0  True\n",
      "ps_ind_04_cat_999.0  True\n",
      "ps_ind_05_cat_2.0    True\n",
      "ps_ind_05_cat_5.0    True\n",
      "ps_ind_05_cat_999.0  True\n",
      "ps_car_02_cat_999.0  True\n",
      "ps_car_04_cat_3      True\n",
      "ps_car_04_cat_4      True\n",
      "ps_car_04_cat_5      True\n",
      "ps_car_04_cat_6      True\n",
      "ps_car_04_cat_7      True\n",
      "ps_car_09_cat_4.0    True\n",
      "ps_car_09_cat_999.0  True\n",
      "ps_car_10_cat_0      True\n",
      "ps_car_10_cat_1      True\n",
      "ps_car_10_cat_2      True\n",
      "23\n"
     ]
    }
   ],
   "source": [
    "array_nzv = []\n",
    "for i in X_train.columns:\n",
    "    nzv = nearZeroVariance (X_train[i],freqCut = 99/1, uniqueCut = 0.005)\n",
    "    array_nzv.append(nzv)\n",
    "    \n",
    "    \n",
    "nzv_df = pd.DataFrame(array_nzv, index= X_train.columns, columns = ['nzv'])\n",
    "true_nzv = nzv_df[nzv_df['nzv'] == True]\n",
    "print('columns will be dropped:')\n",
    "print(true_nzv)\n",
    "print(len(true_nzv))\n",
    "#true_nzv.index"
   ]
  },
  {
   "cell_type": "code",
   "execution_count": 19,
   "metadata": {},
   "outputs": [
    {
     "data": {
      "text/plain": [
       "(416648, 98)"
      ]
     },
     "execution_count": 19,
     "metadata": {},
     "output_type": "execute_result"
    }
   ],
   "source": [
    "X_train.shape"
   ]
  },
  {
   "cell_type": "code",
   "execution_count": 20,
   "metadata": {},
   "outputs": [
    {
     "name": "stdout",
     "output_type": "stream",
     "text": [
      "['ps_ind_10_bin', 'ps_ind_11_bin', 'ps_ind_12_bin', 'ps_ind_13_bin', 'ps_ind_14', 'ps_reg_03', 'ps_ind_02_cat_999.0', 'ps_ind_04_cat_999.0', 'ps_ind_05_cat_2.0', 'ps_ind_05_cat_5.0', 'ps_ind_05_cat_999.0', 'ps_car_02_cat_999.0', 'ps_car_04_cat_3', 'ps_car_04_cat_4', 'ps_car_04_cat_5', 'ps_car_04_cat_6', 'ps_car_04_cat_7', 'ps_car_09_cat_4.0', 'ps_car_09_cat_999.0', 'ps_car_10_cat_0', 'ps_car_10_cat_1', 'ps_car_10_cat_2']\n"
     ]
    },
    {
     "data": {
      "text/plain": [
       "22"
      ]
     },
     "execution_count": 20,
     "metadata": {},
     "output_type": "execute_result"
    }
   ],
   "source": [
    "true_nzv_drop = filter(lambda x: x not in ['ps_reg_03_MED'], true_nzv.index)\n",
    "print(true_nzv_drop)\n",
    "len(true_nzv_drop)"
   ]
  },
  {
   "cell_type": "code",
   "execution_count": 21,
   "metadata": {},
   "outputs": [
    {
     "data": {
      "text/plain": [
       "(416648, 76)"
      ]
     },
     "execution_count": 21,
     "metadata": {},
     "output_type": "execute_result"
    }
   ],
   "source": [
    "X_train = X_train.drop(true_nzv_drop, axis = 1)\n",
    "X_train.shape"
   ]
  },
  {
   "cell_type": "code",
   "execution_count": 22,
   "metadata": {},
   "outputs": [
    {
     "data": {
      "text/plain": [
       "Index([u'ps_ind_01', u'ps_ind_03', u'ps_ind_06_bin', u'ps_ind_07_bin',\n",
       "       u'ps_ind_08_bin', u'ps_ind_09_bin', u'ps_ind_15', u'ps_ind_16_bin',\n",
       "       u'ps_ind_17_bin', u'ps_ind_18_bin', u'ps_reg_01', u'ps_reg_02',\n",
       "       u'ps_car_01_cat', u'ps_car_06_cat', u'ps_car_11_cat', u'ps_car_11',\n",
       "       u'ps_car_12', u'ps_car_13', u'ps_car_14', u'ps_car_15', u'ps_calc_01',\n",
       "       u'ps_calc_02', u'ps_calc_03', u'ps_calc_04', u'ps_calc_05',\n",
       "       u'ps_calc_06', u'ps_calc_07', u'ps_calc_08', u'ps_calc_09',\n",
       "       u'ps_calc_10', u'ps_calc_11', u'ps_calc_12', u'ps_calc_13',\n",
       "       u'ps_calc_14', u'ps_calc_15_bin', u'ps_calc_16_bin', u'ps_calc_17_bin',\n",
       "       u'ps_calc_18_bin', u'ps_calc_19_bin', u'ps_calc_20_bin', u'n_miss',\n",
       "       u'ps_reg_03_MED', u'ps_car_11_cat_v2', u'ps_ind_02_cat_1.0',\n",
       "       u'ps_ind_02_cat_2.0', u'ps_ind_02_cat_3.0', u'ps_ind_02_cat_4.0',\n",
       "       u'ps_ind_04_cat_0.0', u'ps_ind_04_cat_1.0', u'ps_ind_05_cat_0.0',\n",
       "       u'ps_ind_05_cat_1.0', u'ps_ind_05_cat_3.0', u'ps_ind_05_cat_4.0',\n",
       "       u'ps_ind_05_cat_6.0', u'ps_car_02_cat_0.0', u'ps_car_02_cat_1.0',\n",
       "       u'ps_car_03_cat_0.0', u'ps_car_03_cat_1.0', u'ps_car_03_cat_999.0',\n",
       "       u'ps_car_04_cat_0', u'ps_car_04_cat_1', u'ps_car_04_cat_2',\n",
       "       u'ps_car_04_cat_8', u'ps_car_04_cat_9', u'ps_car_05_cat_0.0',\n",
       "       u'ps_car_05_cat_1.0', u'ps_car_05_cat_999.0', u'ps_car_07_cat_0.0',\n",
       "       u'ps_car_07_cat_1.0', u'ps_car_07_cat_999.0', u'ps_car_08_cat_0',\n",
       "       u'ps_car_08_cat_1', u'ps_car_09_cat_0.0', u'ps_car_09_cat_1.0',\n",
       "       u'ps_car_09_cat_2.0', u'ps_car_09_cat_3.0'],\n",
       "      dtype='object')"
      ]
     },
     "execution_count": 22,
     "metadata": {},
     "output_type": "execute_result"
    }
   ],
   "source": [
    "X_train.columns"
   ]
  },
  {
   "cell_type": "markdown",
   "metadata": {},
   "source": [
    "### Tratamento na base teste para escoragem"
   ]
  },
  {
   "cell_type": "code",
   "execution_count": 23,
   "metadata": {
    "collapsed": true
   },
   "outputs": [],
   "source": [
    "def transf_new_data(X_test):\n",
    "\n",
    "    temp = X_test.isnull().sum(axis=1)\n",
    "    X_test.loc[:,'n_miss']=temp\n",
    "\n",
    "    for var in names_cat:\n",
    "        X_test.loc[:, var] = X_test.loc[:,var].fillna(999)\n",
    "    for var in names_bin:\n",
    "        X_test.loc[:, var] = X_test.loc[:,var].fillna(999)\n",
    "\n",
    "    X_test['ps_reg_03_MED'] = X_test['ps_reg_03'].fillna(med_ps_reg03)\n",
    "    #X_test['ps_reg_03_MEAN'] = X_test['ps_reg_03'].fillna(mean_ps_reg03)\n",
    "        #len(X_test.columns)\n",
    "    #train_median =  X_test.apply(lambda x: x.median(), axis = 0)\n",
    "    \n",
    "    #print(X_test.columns)\n",
    "    for i in range(len(X_test.columns)):\n",
    "        X_test.iloc[:, i] = X_test.iloc[:, i].fillna(train_median[i])\n",
    "\n",
    "    def transf_car11cat (elemento):\n",
    "        if elemento in [41,18,75,63,58]:\n",
    "            return 1\n",
    "        elif elemento in [56, 93,71,69, 21,97,55,72,4,33,100,89, 3, 94]:\n",
    "            return 2\n",
    "        elif elemento in [61, 13, 17, 20, 14, 90,104]:\n",
    "            return 3\n",
    "        elif elemento in [54, 45, 50, 28, 1, 79, 5, 31, 73, 80, 47, 2, 12]:\n",
    "            return 4\n",
    "        elif elemento in [12, 27, 8, 25, 24, 6, 46, 101, 91, 92, 81, 70, 29]:\n",
    "            return 5\n",
    "        elif elemento in [76, 83, 35, 15, 78, 36, 77, 34, 52, 40, 23]:\n",
    "            return 6\n",
    "        elif elemento in [51, 102, 26, 59, 22, 68, 60, 49, 87, 74, 53, 88, 85, 86, 84, 48, 96, 9]:\n",
    "            return 7\n",
    "        elif elemento in [38, 11, 62, 65, 98, 64, 37, 42, 95]:\n",
    "            return 8\n",
    "        elif elemento in [66, 7, 30, 82, 103, 16, 10, 44]:\n",
    "            return 9\n",
    "        elif elemento in [32, 57, 67, 39, 99, 19, 43]:\n",
    "            return 10\n",
    "        else:\n",
    "            return 10\n",
    "\n",
    "    X_test['ps_car_11_cat_v2'] = map(transf_car11cat , X_test['ps_car_11_cat'])\n",
    "    #print(X_test['ps_car_11_cat_v2'].value_counts())\n",
    "    #print(X_test['ps_car_11_cat'].value_counts())\n",
    "\n",
    "    X_test = pd.get_dummies(X_test, columns = names_to_dummies2)\n",
    "    print(X_test.columns)\n",
    "\n",
    "    X_test = X_test.drop(true_nzv_drop, axis = 1)\n",
    "    X_test.shape\n",
    "    return X_test\n"
   ]
  },
  {
   "cell_type": "markdown",
   "metadata": {},
   "source": [
    "### Função de grid search para algoritmos de *Machine Learning*"
   ]
  },
  {
   "cell_type": "code",
   "execution_count": 31,
   "metadata": {
    "collapsed": true
   },
   "outputs": [],
   "source": [
    "def grid_search_model (x, y, clf, parameters, scorer, random_cv):\n",
    "    grid_obj = GridSearchCV(clf, parameters, scoring = scorer, cv =  StratifiedKFold(shuffle = False, n_splits=5, random_state =random_cv))\n",
    "    start = time()\n",
    "    grid_fit = grid_obj.fit(x, y)\n",
    "    end = time()\n",
    "    print \"Best score:\" , grid_fit.best_score_\n",
    "    print \"Best parameters:\" , grid_fit.best_params_\n",
    "    print \"Find best parameterers in {:.4f} seconds.\".format(end - start) \n",
    "    return grid_fit.best_estimator_\n"
   ]
  },
  {
   "cell_type": "markdown",
   "metadata": {},
   "source": [
    "### Função de importância de *features* para algoritmos de *Machine Learning*"
   ]
  },
  {
   "cell_type": "code",
   "execution_count": 32,
   "metadata": {
    "collapsed": true
   },
   "outputs": [],
   "source": [
    "def features_importance (classificador, base_aplicacao, n_features):\n",
    "    features_imp = pd.DataFrame(base_aplicacao.columns)\n",
    "    features_imp['importance'] = classificador.feature_importances_ \n",
    "    features_imp.columns=['features', 'importance']\n",
    "    features_imp.sort_values(by='importance', ascending = False, inplace = True)\n",
    "    \n",
    "    sns.set(font_scale=1.7)\n",
    "    fig=plt.figure(figsize=(10,10))\n",
    "    plt.style.use('ggplot')\n",
    "    cores = 'GnBu_d'\n",
    "    ax1 = fig.add_subplot(111)\n",
    "    \n",
    "    ax1 = sns.barplot(palette = cores, y = 'features', x='importance', data = features_imp.iloc[0:n_features,:])\n",
    "    plt.show()"
   ]
  },
  {
   "cell_type": "markdown",
   "metadata": {},
   "source": [
    "---------------------------------------------------------------------------------------------------------------------\n",
    "---------------------------------------------------------------------------------------------------------------------\n",
    "##                                            Soluções iniciais "
   ]
  },
  {
   "cell_type": "code",
   "execution_count": 25,
   "metadata": {},
   "outputs": [
    {
     "name": "stderr",
     "output_type": "stream",
     "text": [
      "C:\\Users\\rhais\\Anaconda2\\lib\\site-packages\\ipykernel_launcher.py:11: SettingWithCopyWarning: \n",
      "A value is trying to be set on a copy of a slice from a DataFrame.\n",
      "Try using .loc[row_indexer,col_indexer] = value instead\n",
      "\n",
      "See the caveats in the documentation: http://pandas.pydata.org/pandas-docs/stable/indexing.html#indexing-view-versus-copy\n",
      "  # This is added back by InteractiveShellApp.init_path()\n",
      "C:\\Users\\rhais\\Anaconda2\\lib\\site-packages\\ipykernel_launcher.py:44: SettingWithCopyWarning: \n",
      "A value is trying to be set on a copy of a slice from a DataFrame.\n",
      "Try using .loc[row_indexer,col_indexer] = value instead\n",
      "\n",
      "See the caveats in the documentation: http://pandas.pydata.org/pandas-docs/stable/indexing.html#indexing-view-versus-copy\n"
     ]
    },
    {
     "name": "stdout",
     "output_type": "stream",
     "text": [
      "Index([u'ps_ind_01', u'ps_ind_03', u'ps_ind_06_bin', u'ps_ind_07_bin',\n",
      "       u'ps_ind_08_bin', u'ps_ind_09_bin', u'ps_ind_10_bin', u'ps_ind_11_bin',\n",
      "       u'ps_ind_12_bin', u'ps_ind_13_bin', u'ps_ind_14', u'ps_ind_15',\n",
      "       u'ps_ind_16_bin', u'ps_ind_17_bin', u'ps_ind_18_bin', u'ps_reg_01',\n",
      "       u'ps_reg_02', u'ps_reg_03', u'ps_car_01_cat', u'ps_car_06_cat',\n",
      "       u'ps_car_11_cat', u'ps_car_11', u'ps_car_12', u'ps_car_13',\n",
      "       u'ps_car_14', u'ps_car_15', u'ps_calc_01', u'ps_calc_02', u'ps_calc_03',\n",
      "       u'ps_calc_04', u'ps_calc_05', u'ps_calc_06', u'ps_calc_07',\n",
      "       u'ps_calc_08', u'ps_calc_09', u'ps_calc_10', u'ps_calc_11',\n",
      "       u'ps_calc_12', u'ps_calc_13', u'ps_calc_14', u'ps_calc_15_bin',\n",
      "       u'ps_calc_16_bin', u'ps_calc_17_bin', u'ps_calc_18_bin',\n",
      "       u'ps_calc_19_bin', u'ps_calc_20_bin', u'n_miss', u'ps_reg_03_MED',\n",
      "       u'ps_car_11_cat_v2', u'ps_ind_02_cat_1.0', u'ps_ind_02_cat_2.0',\n",
      "       u'ps_ind_02_cat_3.0', u'ps_ind_02_cat_4.0', u'ps_ind_02_cat_999.0',\n",
      "       u'ps_ind_04_cat_0.0', u'ps_ind_04_cat_1.0', u'ps_ind_04_cat_999.0',\n",
      "       u'ps_ind_05_cat_0.0', u'ps_ind_05_cat_1.0', u'ps_ind_05_cat_2.0',\n",
      "       u'ps_ind_05_cat_3.0', u'ps_ind_05_cat_4.0', u'ps_ind_05_cat_5.0',\n",
      "       u'ps_ind_05_cat_6.0', u'ps_ind_05_cat_999.0', u'ps_car_02_cat_0.0',\n",
      "       u'ps_car_02_cat_1.0', u'ps_car_02_cat_999.0', u'ps_car_03_cat_0.0',\n",
      "       u'ps_car_03_cat_1.0', u'ps_car_03_cat_999.0', u'ps_car_04_cat_0',\n",
      "       u'ps_car_04_cat_1', u'ps_car_04_cat_2', u'ps_car_04_cat_3',\n",
      "       u'ps_car_04_cat_4', u'ps_car_04_cat_5', u'ps_car_04_cat_6',\n",
      "       u'ps_car_04_cat_7', u'ps_car_04_cat_8', u'ps_car_04_cat_9',\n",
      "       u'ps_car_05_cat_0.0', u'ps_car_05_cat_1.0', u'ps_car_05_cat_999.0',\n",
      "       u'ps_car_07_cat_0.0', u'ps_car_07_cat_1.0', u'ps_car_07_cat_999.0',\n",
      "       u'ps_car_08_cat_0', u'ps_car_08_cat_1', u'ps_car_09_cat_0.0',\n",
      "       u'ps_car_09_cat_1.0', u'ps_car_09_cat_2.0', u'ps_car_09_cat_3.0',\n",
      "       u'ps_car_09_cat_4.0', u'ps_car_09_cat_999.0', u'ps_car_10_cat_0',\n",
      "       u'ps_car_10_cat_1', u'ps_car_10_cat_2'],\n",
      "      dtype='object')\n"
     ]
    }
   ],
   "source": [
    "X_test_final = transf_new_data(X_test) "
   ]
  },
  {
   "cell_type": "markdown",
   "metadata": {},
   "source": [
    "###  Parâmetros fixados no Gradient Boosting"
   ]
  },
  {
   "cell_type": "code",
   "execution_count": 85,
   "metadata": {},
   "outputs": [
    {
     "name": "stdout",
     "output_type": "stream",
     "text": [
      "('Best score:', 0.25929997523769749)\n",
      "('Best parameters:', {'max_features': 4, 'n_estimators': 50, 'learning_rate': 0.08, 'max_depth': 3})\n",
      "Find best parameterers in 82.9370 seconds.\n"
     ]
    },
    {
     "data": {
      "text/plain": [
       "GradientBoostingClassifier(criterion='friedman_mse', init=None,\n",
       "              learning_rate=0.08, loss='deviance', max_depth=3,\n",
       "              max_features=4, max_leaf_nodes=None,\n",
       "              min_impurity_split=1e-07, min_samples_leaf=1,\n",
       "              min_samples_split=2, min_weight_fraction_leaf=0.0,\n",
       "              n_estimators=50, presort='auto', random_state=2,\n",
       "              subsample=1.0, verbose=0, warm_start=False)"
      ]
     },
     "execution_count": 85,
     "metadata": {},
     "output_type": "execute_result"
    }
   ],
   "source": [
    "params_GB = dict(n_estimators = [50],\n",
    "                  learning_rate = [0.08],\n",
    "                  max_features  = [4],\n",
    "                  max_depth = [3])\n",
    "scorer = make_scorer(gini_normalized, needs_proba = True, greater_is_better = True)\n",
    "GB_1 = grid_search_model(X_train, y_train, GradientBoostingClassifier(random_state=2), params_GB, scorer = scorer, 91021)\n",
    "GB_1\n"
   ]
  },
  {
   "cell_type": "code",
   "execution_count": 87,
   "metadata": {},
   "outputs": [
    {
     "name": "stderr",
     "output_type": "stream",
     "text": [
      "C:\\Users\\rhais\\Anaconda2\\lib\\site-packages\\ipykernel_launcher.py:11: SettingWithCopyWarning: \n",
      "A value is trying to be set on a copy of a slice from a DataFrame.\n",
      "Try using .loc[row_indexer,col_indexer] = value instead\n",
      "\n",
      "See the caveats in the documentation: http://pandas.pydata.org/pandas-docs/stable/indexing.html#indexing-view-versus-copy\n",
      "  # This is added back by InteractiveShellApp.init_path()\n",
      "C:\\Users\\rhais\\Anaconda2\\lib\\site-packages\\ipykernel_launcher.py:12: SettingWithCopyWarning: \n",
      "A value is trying to be set on a copy of a slice from a DataFrame.\n",
      "Try using .loc[row_indexer,col_indexer] = value instead\n",
      "\n",
      "See the caveats in the documentation: http://pandas.pydata.org/pandas-docs/stable/indexing.html#indexing-view-versus-copy\n",
      "  if sys.path[0] == '':\n",
      "C:\\Users\\rhais\\Anaconda2\\lib\\site-packages\\ipykernel_launcher.py:44: SettingWithCopyWarning: \n",
      "A value is trying to be set on a copy of a slice from a DataFrame.\n",
      "Try using .loc[row_indexer,col_indexer] = value instead\n",
      "\n",
      "See the caveats in the documentation: http://pandas.pydata.org/pandas-docs/stable/indexing.html#indexing-view-versus-copy\n"
     ]
    },
    {
     "name": "stdout",
     "output_type": "stream",
     "text": [
      "Index([u'ps_ind_01', u'ps_ind_03', u'ps_ind_06_bin', u'ps_ind_07_bin',\n",
      "       u'ps_ind_08_bin', u'ps_ind_09_bin', u'ps_ind_10_bin', u'ps_ind_11_bin',\n",
      "       u'ps_ind_12_bin', u'ps_ind_13_bin', u'ps_ind_14', u'ps_ind_15',\n",
      "       u'ps_ind_16_bin', u'ps_ind_17_bin', u'ps_ind_18_bin', u'ps_reg_01',\n",
      "       u'ps_reg_02', u'ps_reg_03', u'ps_car_01_cat', u'ps_car_06_cat',\n",
      "       u'ps_car_11_cat', u'ps_car_11', u'ps_car_12', u'ps_car_13',\n",
      "       u'ps_car_14', u'ps_car_15', u'ps_calc_01', u'ps_calc_02', u'ps_calc_03',\n",
      "       u'ps_calc_04', u'ps_calc_05', u'ps_calc_06', u'ps_calc_07',\n",
      "       u'ps_calc_08', u'ps_calc_09', u'ps_calc_10', u'ps_calc_11',\n",
      "       u'ps_calc_12', u'ps_calc_13', u'ps_calc_14', u'ps_calc_15_bin',\n",
      "       u'ps_calc_16_bin', u'ps_calc_17_bin', u'ps_calc_18_bin',\n",
      "       u'ps_calc_19_bin', u'ps_calc_20_bin', u'n_miss', u'ps_reg_03_MED',\n",
      "       u'ps_reg_03_MEAN', u'ps_car_11_cat_v2', u'ps_ind_02_cat_1.0',\n",
      "       u'ps_ind_02_cat_2.0', u'ps_ind_02_cat_3.0', u'ps_ind_02_cat_4.0',\n",
      "       u'ps_ind_02_cat_999.0', u'ps_ind_04_cat_0.0', u'ps_ind_04_cat_1.0',\n",
      "       u'ps_ind_04_cat_999.0', u'ps_ind_05_cat_0.0', u'ps_ind_05_cat_1.0',\n",
      "       u'ps_ind_05_cat_2.0', u'ps_ind_05_cat_3.0', u'ps_ind_05_cat_4.0',\n",
      "       u'ps_ind_05_cat_5.0', u'ps_ind_05_cat_6.0', u'ps_ind_05_cat_999.0',\n",
      "       u'ps_car_02_cat_0.0', u'ps_car_02_cat_1.0', u'ps_car_02_cat_999.0',\n",
      "       u'ps_car_03_cat_0.0', u'ps_car_03_cat_1.0', u'ps_car_03_cat_999.0',\n",
      "       u'ps_car_04_cat_0', u'ps_car_04_cat_1', u'ps_car_04_cat_2',\n",
      "       u'ps_car_04_cat_3', u'ps_car_04_cat_4', u'ps_car_04_cat_5',\n",
      "       u'ps_car_04_cat_6', u'ps_car_04_cat_7', u'ps_car_04_cat_8',\n",
      "       u'ps_car_04_cat_9', u'ps_car_05_cat_0.0', u'ps_car_05_cat_1.0',\n",
      "       u'ps_car_05_cat_999.0', u'ps_car_07_cat_0.0', u'ps_car_07_cat_1.0',\n",
      "       u'ps_car_07_cat_999.0', u'ps_car_08_cat_0', u'ps_car_08_cat_1',\n",
      "       u'ps_car_09_cat_0.0', u'ps_car_09_cat_1.0', u'ps_car_09_cat_2.0',\n",
      "       u'ps_car_09_cat_3.0', u'ps_car_09_cat_4.0', u'ps_car_09_cat_999.0',\n",
      "       u'ps_car_10_cat_0', u'ps_car_10_cat_1', u'ps_car_10_cat_2'],\n",
      "      dtype='object')\n",
      "Resultado na base teste:\n",
      "0.246807893803\n"
     ]
    }
   ],
   "source": [
    "# Aplicação na base teste\n",
    "print 'Resultado na base teste:'\n",
    "print gini_normalized(y_test, GB_1.predict_proba(X_test_final))"
   ]
  },
  {
   "cell_type": "markdown",
   "metadata": {},
   "source": [
    "###  Parâmetros fixados no Light GBM"
   ]
  },
  {
   "cell_type": "code",
   "execution_count": 26,
   "metadata": {},
   "outputs": [
    {
     "name": "stdout",
     "output_type": "stream",
     "text": [
      "Training LGBM model...\n",
      "Training until validation scores don't improve for 100 rounds.\n",
      "[10]\ttraining's auc: 0.644983\ttraining's gini: 0.289966\tvalid_1's auc: 0.626002\tvalid_1's gini: 0.252006\n",
      "[20]\ttraining's auc: 0.651307\ttraining's gini: 0.302615\tvalid_1's auc: 0.629976\tvalid_1's gini: 0.259953\n",
      "[30]\ttraining's auc: 0.655793\ttraining's gini: 0.311586\tvalid_1's auc: 0.630363\tvalid_1's gini: 0.260727\n",
      "[40]\ttraining's auc: 0.660411\ttraining's gini: 0.320822\tvalid_1's auc: 0.631333\tvalid_1's gini: 0.262666\n",
      "[50]\ttraining's auc: 0.665534\ttraining's gini: 0.331068\tvalid_1's auc: 0.633052\tvalid_1's gini: 0.266104\n",
      "Did not meet early stopping. Best iteration is:\n",
      "[50]\ttraining's auc: 0.665534\ttraining's gini: 0.331068\tvalid_1's auc: 0.633052\tvalid_1's gini: 0.266104\n",
      "End training\n",
      "Resultado na base teste:\n"
     ]
    },
    {
     "data": {
      "text/plain": [
       "0.26259254104327306"
      ]
     },
     "execution_count": 26,
     "metadata": {},
     "output_type": "execute_result"
    }
   ],
   "source": [
    "import lightgbm as lgb\n",
    "\n",
    "\n",
    "X_train_2, X_valid, y_train_2, y_valid = train_test_split(X_train, y_train, test_size=0.15, random_state = 12)\n",
    "\n",
    "d_train = lgb.Dataset(X_train_2, label=y_train_2)\n",
    "d_valid = lgb.Dataset(X_valid, label=y_valid) \n",
    "\n",
    "\n",
    "#Split\n",
    "watchlist = [d_train, d_valid]\n",
    "def gini_normalized2(a, p):\n",
    "    return gini(a, p) / gini(a, a)\n",
    "\n",
    "def gini_lgb(preds, dtrain):\n",
    "    labels = dtrain.get_label()\n",
    "    gini_score = gini_normalized2(labels, preds)\n",
    "    return 'gini', gini_score, False\n",
    "\n",
    "\n",
    "params = {\n",
    "    'application': 'binary',\n",
    "    'objective': 'binary',\n",
    "    'metric': 'auc',\n",
    "    'is_unbalance': 'true',\n",
    "    'boosting': 'gbdt',\n",
    "    'num_leaves': 30,\n",
    "    'feature_fraction': 0.5,\n",
    "    'bagging_fraction': 0.5,\n",
    "    'learning_rate': 0.05,\n",
    "    'max_depth': 10,\n",
    "    'verbose': 0\n",
    "}\n",
    "\n",
    "\n",
    "\n",
    "print('Training LGBM model...')\n",
    "model = lgb.train(params, train_set=d_train, num_boost_round=50, valid_sets=watchlist, \n",
    "early_stopping_rounds=100, verbose_eval=10, feval=gini_lgb)\n",
    "print(\"End training\")\n",
    " \n",
    "\n",
    "print 'Resultado na base teste:'\n",
    "#dtest = lgb.Dataset(X_test_final, label=y_test) \n",
    "probs = model.predict(X_test_final)\n",
    "gini_normalized2(y_test, probs)"
   ]
  },
  {
   "cell_type": "markdown",
   "metadata": {},
   "source": [
    "-------------------------------------------------------------------------------------------------------------\n",
    "-------------------------------------------------------------------------------------------------------------\n",
    "## Técnicas com *grid search*"
   ]
  },
  {
   "cell_type": "markdown",
   "metadata": {},
   "source": [
    "### Gradient Boosting"
   ]
  },
  {
   "cell_type": "code",
   "execution_count": 88,
   "metadata": {},
   "outputs": [
    {
     "name": "stdout",
     "output_type": "stream",
     "text": [
      "('Best score:', 0.28014648273534221)\n",
      "('Best parameters:', {'n_estimators': 200, 'learning_rate': 0.08, 'max_depth': 3})\n",
      "Find best parameterers in 24822.5750 seconds.\n"
     ]
    },
    {
     "data": {
      "text/plain": [
       "GradientBoostingClassifier(criterion='friedman_mse', init=None,\n",
       "              learning_rate=0.08, loss='deviance', max_depth=3,\n",
       "              max_features=None, max_leaf_nodes=None,\n",
       "              min_impurity_split=1e-07, min_samples_leaf=1,\n",
       "              min_samples_split=2, min_weight_fraction_leaf=0.0,\n",
       "              n_estimators=200, presort='auto', random_state=3,\n",
       "              subsample=1.0, verbose=0, warm_start=False)"
      ]
     },
     "execution_count": 88,
     "metadata": {},
     "output_type": "execute_result"
    }
   ],
   "source": [
    "params_GB = dict(n_estimators = [200],\n",
    "                  learning_rate = [0.08, 1],\n",
    "                  #max_features  = [4, 8],\n",
    "                  max_depth = [3, 5, 7])\n",
    "\n",
    "scorer = make_scorer(gini_normalized, needs_proba = True, greater_is_better = True)\n",
    "GB = grid_search_model(X_train, y_train, GradientBoostingClassifier(random_state=3), params_GB, scorer = scorer)\n",
    "GB"
   ]
  },
  {
   "cell_type": "code",
   "execution_count": 89,
   "metadata": {},
   "outputs": [
    {
     "name": "stderr",
     "output_type": "stream",
     "text": [
      "C:\\Users\\rhais\\Anaconda2\\lib\\site-packages\\ipykernel_launcher.py:11: SettingWithCopyWarning: \n",
      "A value is trying to be set on a copy of a slice from a DataFrame.\n",
      "Try using .loc[row_indexer,col_indexer] = value instead\n",
      "\n",
      "See the caveats in the documentation: http://pandas.pydata.org/pandas-docs/stable/indexing.html#indexing-view-versus-copy\n",
      "  # This is added back by InteractiveShellApp.init_path()\n",
      "C:\\Users\\rhais\\Anaconda2\\lib\\site-packages\\ipykernel_launcher.py:12: SettingWithCopyWarning: \n",
      "A value is trying to be set on a copy of a slice from a DataFrame.\n",
      "Try using .loc[row_indexer,col_indexer] = value instead\n",
      "\n",
      "See the caveats in the documentation: http://pandas.pydata.org/pandas-docs/stable/indexing.html#indexing-view-versus-copy\n",
      "  if sys.path[0] == '':\n",
      "C:\\Users\\rhais\\Anaconda2\\lib\\site-packages\\ipykernel_launcher.py:44: SettingWithCopyWarning: \n",
      "A value is trying to be set on a copy of a slice from a DataFrame.\n",
      "Try using .loc[row_indexer,col_indexer] = value instead\n",
      "\n",
      "See the caveats in the documentation: http://pandas.pydata.org/pandas-docs/stable/indexing.html#indexing-view-versus-copy\n"
     ]
    },
    {
     "name": "stdout",
     "output_type": "stream",
     "text": [
      "Index([u'ps_ind_01', u'ps_ind_03', u'ps_ind_06_bin', u'ps_ind_07_bin',\n",
      "       u'ps_ind_08_bin', u'ps_ind_09_bin', u'ps_ind_10_bin', u'ps_ind_11_bin',\n",
      "       u'ps_ind_12_bin', u'ps_ind_13_bin', u'ps_ind_14', u'ps_ind_15',\n",
      "       u'ps_ind_16_bin', u'ps_ind_17_bin', u'ps_ind_18_bin', u'ps_reg_01',\n",
      "       u'ps_reg_02', u'ps_reg_03', u'ps_car_01_cat', u'ps_car_06_cat',\n",
      "       u'ps_car_11_cat', u'ps_car_11', u'ps_car_12', u'ps_car_13',\n",
      "       u'ps_car_14', u'ps_car_15', u'ps_calc_01', u'ps_calc_02', u'ps_calc_03',\n",
      "       u'ps_calc_04', u'ps_calc_05', u'ps_calc_06', u'ps_calc_07',\n",
      "       u'ps_calc_08', u'ps_calc_09', u'ps_calc_10', u'ps_calc_11',\n",
      "       u'ps_calc_12', u'ps_calc_13', u'ps_calc_14', u'ps_calc_15_bin',\n",
      "       u'ps_calc_16_bin', u'ps_calc_17_bin', u'ps_calc_18_bin',\n",
      "       u'ps_calc_19_bin', u'ps_calc_20_bin', u'n_miss', u'ps_reg_03_MED',\n",
      "       u'ps_reg_03_MEAN', u'ps_car_11_cat_v2', u'ps_ind_02_cat_1.0',\n",
      "       u'ps_ind_02_cat_2.0', u'ps_ind_02_cat_3.0', u'ps_ind_02_cat_4.0',\n",
      "       u'ps_ind_02_cat_999.0', u'ps_ind_04_cat_0.0', u'ps_ind_04_cat_1.0',\n",
      "       u'ps_ind_04_cat_999.0', u'ps_ind_05_cat_0.0', u'ps_ind_05_cat_1.0',\n",
      "       u'ps_ind_05_cat_2.0', u'ps_ind_05_cat_3.0', u'ps_ind_05_cat_4.0',\n",
      "       u'ps_ind_05_cat_5.0', u'ps_ind_05_cat_6.0', u'ps_ind_05_cat_999.0',\n",
      "       u'ps_car_02_cat_0.0', u'ps_car_02_cat_1.0', u'ps_car_02_cat_999.0',\n",
      "       u'ps_car_03_cat_0.0', u'ps_car_03_cat_1.0', u'ps_car_03_cat_999.0',\n",
      "       u'ps_car_04_cat_0', u'ps_car_04_cat_1', u'ps_car_04_cat_2',\n",
      "       u'ps_car_04_cat_3', u'ps_car_04_cat_4', u'ps_car_04_cat_5',\n",
      "       u'ps_car_04_cat_6', u'ps_car_04_cat_7', u'ps_car_04_cat_8',\n",
      "       u'ps_car_04_cat_9', u'ps_car_05_cat_0.0', u'ps_car_05_cat_1.0',\n",
      "       u'ps_car_05_cat_999.0', u'ps_car_07_cat_0.0', u'ps_car_07_cat_1.0',\n",
      "       u'ps_car_07_cat_999.0', u'ps_car_08_cat_0', u'ps_car_08_cat_1',\n",
      "       u'ps_car_09_cat_0.0', u'ps_car_09_cat_1.0', u'ps_car_09_cat_2.0',\n",
      "       u'ps_car_09_cat_3.0', u'ps_car_09_cat_4.0', u'ps_car_09_cat_999.0',\n",
      "       u'ps_car_10_cat_0', u'ps_car_10_cat_1', u'ps_car_10_cat_2'],\n",
      "      dtype='object')\n",
      "Resultado na base teste:\n",
      "0.269617644808\n"
     ]
    }
   ],
   "source": [
    "# Aplicação na base teste\n",
    "X_test_final = transf_new_data(X_test) \n",
    "print 'Resultado na base teste:'\n",
    "print gini_normalized(y_test, GB.predict_proba(X_test_final))"
   ]
  },
  {
   "cell_type": "markdown",
   "metadata": {},
   "source": [
    "## Random Forest"
   ]
  },
  {
   "cell_type": "code",
   "execution_count": 90,
   "metadata": {},
   "outputs": [
    {
     "name": "stdout",
     "output_type": "stream",
     "text": [
      "('Best score:', 0.26225591554934002)\n",
      "('Best parameters:', {'min_samples_split': 0.02, 'n_estimators': 350, 'max_depth': 8})\n",
      "Find best parameterers in 5541.1980 seconds.\n"
     ]
    },
    {
     "data": {
      "text/plain": [
       "RandomForestClassifier(bootstrap=True, class_weight=None, criterion='gini',\n",
       "            max_depth=8, max_features='auto', max_leaf_nodes=None,\n",
       "            min_impurity_split=1e-07, min_samples_leaf=1,\n",
       "            min_samples_split=0.02, min_weight_fraction_leaf=0.0,\n",
       "            n_estimators=350, n_jobs=1, oob_score=False, random_state=3,\n",
       "            verbose=0, warm_start=False)"
      ]
     },
     "execution_count": 90,
     "metadata": {},
     "output_type": "execute_result"
    }
   ],
   "source": [
    "params_RF = dict(n_estimators = [350],\n",
    "                  #max_features  = [4, 8],\n",
    "                  max_depth = [3, 5, 8],\n",
    "                  min_samples_split = [0.02, 0.06, 0.08])\n",
    "scorer = make_scorer(gini_normalized, needs_proba = True, greater_is_better = True)\n",
    "RF = grid_search_model(X_train, y_train, RandomForestClassifier(random_state=3), params_RF, scorer = scorer)\n",
    "RF"
   ]
  },
  {
   "cell_type": "code",
   "execution_count": 91,
   "metadata": {},
   "outputs": [
    {
     "name": "stdout",
     "output_type": "stream",
     "text": [
      "Resultado na base teste:\n",
      "0.249377744836\n"
     ]
    }
   ],
   "source": [
    "# Aplicação na base teste\n",
    "#X_test_final = transf_new_data(X_test) \n",
    "print 'Resultado na base teste:'\n",
    "print gini_normalized(y_test, RF.predict_proba(X_test_final))"
   ]
  },
  {
   "cell_type": "markdown",
   "metadata": {},
   "source": [
    "### Extreme Gradient Boosting"
   ]
  },
  {
   "cell_type": "code",
   "execution_count": 49,
   "metadata": {
    "collapsed": true
   },
   "outputs": [],
   "source": [
    "from xgboost import XGBClassifier\n",
    "from sklearn.model_selection import RandomizedSearchCV"
   ]
  },
  {
   "cell_type": "code",
   "execution_count": 65,
   "metadata": {},
   "outputs": [
    {
     "name": "stdout",
     "output_type": "stream",
     "text": [
      "Fitting 5 folds for each of 6 candidates, totalling 30 fits\n",
      "[CV] gamma=1, max_depth=3, min_child_weight=5 ........................\n",
      "[CV]  gamma=1, max_depth=3, min_child_weight=5, score=0.221265, total= 1.7min\n",
      "[CV] gamma=1, max_depth=3, min_child_weight=5 ........................\n"
     ]
    },
    {
     "name": "stderr",
     "output_type": "stream",
     "text": [
      "[Parallel(n_jobs=1)]: Done   1 out of   1 | elapsed:  1.8min remaining:    0.0s\n"
     ]
    },
    {
     "name": "stdout",
     "output_type": "stream",
     "text": [
      "[CV]  gamma=1, max_depth=3, min_child_weight=5, score=0.228095, total= 1.7min\n",
      "[CV] gamma=1, max_depth=3, min_child_weight=5 ........................\n"
     ]
    },
    {
     "name": "stderr",
     "output_type": "stream",
     "text": [
      "[Parallel(n_jobs=1)]: Done   2 out of   2 | elapsed:  3.5min remaining:    0.0s\n"
     ]
    },
    {
     "name": "stdout",
     "output_type": "stream",
     "text": [
      "[CV]  gamma=1, max_depth=3, min_child_weight=5, score=0.243450, total= 1.6min\n",
      "[CV] gamma=1, max_depth=3, min_child_weight=5 ........................\n",
      "[CV]  gamma=1, max_depth=3, min_child_weight=5, score=0.221540, total= 1.7min\n",
      "[CV] gamma=1, max_depth=3, min_child_weight=5 ........................\n",
      "[CV]  gamma=1, max_depth=3, min_child_weight=5, score=0.228451, total= 1.7min\n",
      "[CV] gamma=10, max_depth=3, min_child_weight=5 .......................\n",
      "[CV]  gamma=10, max_depth=3, min_child_weight=5, score=0.220945, total= 1.7min\n",
      "[CV] gamma=10, max_depth=3, min_child_weight=5 .......................\n",
      "[CV]  gamma=10, max_depth=3, min_child_weight=5, score=0.228670, total= 1.7min\n",
      "[CV] gamma=10, max_depth=3, min_child_weight=5 .......................\n",
      "[CV]  gamma=10, max_depth=3, min_child_weight=5, score=0.244075, total= 1.7min\n",
      "[CV] gamma=10, max_depth=3, min_child_weight=5 .......................\n",
      "[CV]  gamma=10, max_depth=3, min_child_weight=5, score=0.222742, total= 1.9min\n",
      "[CV] gamma=10, max_depth=3, min_child_weight=5 .......................\n",
      "[CV]  gamma=10, max_depth=3, min_child_weight=5, score=0.228662, total= 2.0min\n",
      "[CV] gamma=1, max_depth=3, min_child_weight=1 ........................\n",
      "[CV]  gamma=1, max_depth=3, min_child_weight=1, score=0.220577, total= 1.8min\n",
      "[CV] gamma=1, max_depth=3, min_child_weight=1 ........................\n",
      "[CV]  gamma=1, max_depth=3, min_child_weight=1, score=0.227829, total= 1.8min\n",
      "[CV] gamma=1, max_depth=3, min_child_weight=1 ........................\n",
      "[CV]  gamma=1, max_depth=3, min_child_weight=1, score=0.243742, total= 1.8min\n",
      "[CV] gamma=1, max_depth=3, min_child_weight=1 ........................\n",
      "[CV]  gamma=1, max_depth=3, min_child_weight=1, score=0.222312, total= 1.8min\n",
      "[CV] gamma=1, max_depth=3, min_child_weight=1 ........................\n",
      "[CV]  gamma=1, max_depth=3, min_child_weight=1, score=0.227918, total= 1.8min\n",
      "[CV] gamma=1, max_depth=3, min_child_weight=10 .......................\n",
      "[CV]  gamma=1, max_depth=3, min_child_weight=10, score=0.220885, total= 1.8min\n",
      "[CV] gamma=1, max_depth=3, min_child_weight=10 .......................\n",
      "[CV]  gamma=1, max_depth=3, min_child_weight=10, score=0.228214, total= 1.8min\n",
      "[CV] gamma=1, max_depth=3, min_child_weight=10 .......................\n",
      "[CV]  gamma=1, max_depth=3, min_child_weight=10, score=0.244168, total= 1.8min\n",
      "[CV] gamma=1, max_depth=3, min_child_weight=10 .......................\n",
      "[CV]  gamma=1, max_depth=3, min_child_weight=10, score=0.222652, total= 1.8min\n",
      "[CV] gamma=1, max_depth=3, min_child_weight=10 .......................\n",
      "[CV]  gamma=1, max_depth=3, min_child_weight=10, score=0.228725, total= 1.8min\n",
      "[CV] gamma=1, max_depth=8, min_child_weight=5 ........................\n",
      "[CV]  gamma=1, max_depth=8, min_child_weight=5, score=0.251069, total= 4.7min\n",
      "[CV] gamma=1, max_depth=8, min_child_weight=5 ........................\n",
      "[CV]  gamma=1, max_depth=8, min_child_weight=5, score=0.251704, total= 4.6min\n",
      "[CV] gamma=1, max_depth=8, min_child_weight=5 ........................\n",
      "[CV]  gamma=1, max_depth=8, min_child_weight=5, score=0.272579, total= 4.5min\n",
      "[CV] gamma=1, max_depth=8, min_child_weight=5 ........................\n",
      "[CV]  gamma=1, max_depth=8, min_child_weight=5, score=0.246877, total= 4.7min\n",
      "[CV] gamma=1, max_depth=8, min_child_weight=5 ........................\n",
      "[CV]  gamma=1, max_depth=8, min_child_weight=5, score=0.262591, total= 4.5min\n",
      "[CV] gamma=1, max_depth=8, min_child_weight=1 ........................\n",
      "[CV]  gamma=1, max_depth=8, min_child_weight=1, score=0.252625, total= 4.6min\n",
      "[CV] gamma=1, max_depth=8, min_child_weight=1 ........................\n",
      "[CV]  gamma=1, max_depth=8, min_child_weight=1, score=0.255148, total= 4.6min\n",
      "[CV] gamma=1, max_depth=8, min_child_weight=1 ........................\n",
      "[CV]  gamma=1, max_depth=8, min_child_weight=1, score=0.271820, total= 4.7min\n",
      "[CV] gamma=1, max_depth=8, min_child_weight=1 ........................\n",
      "[CV]  gamma=1, max_depth=8, min_child_weight=1, score=0.244952, total= 4.5min\n",
      "[CV] gamma=1, max_depth=8, min_child_weight=1 ........................\n",
      "[CV]  gamma=1, max_depth=8, min_child_weight=1, score=0.259220, total= 4.5min\n"
     ]
    },
    {
     "name": "stderr",
     "output_type": "stream",
     "text": [
      "[Parallel(n_jobs=1)]: Done  30 out of  30 | elapsed: 82.9min finished\n"
     ]
    },
    {
     "name": "stdout",
     "output_type": "stream",
     "text": [
      "Best score: 0.256964032741\n",
      "Best parameters: {'gamma': 1, 'max_depth': 8, 'min_child_weight': 5}\n",
      "Find best parameterers in 5332.7830 seconds.\n"
     ]
    }
   ],
   "source": [
    "param = {\n",
    "  #  'objective' : 'binary:logistic',\n",
    "    'min_child_weight' : [1, 5, 10],\n",
    "   # 'silent' : True,\n",
    "    'max_depth' : [3, 5, 8],\n",
    "    'gamma' : [1, 10]\n",
    "    \n",
    "}\n",
    "\n",
    "folds = 5\n",
    "param_comb = 6\n",
    "xgb = XGBClassifier(learning_rate = 0.02, n_estimators = 100, objective='binary:logistic', silent = True, nthread = 1)\n",
    "skf = StratifiedKFold(n_splits=folds, random_state = 1001)\n",
    "scorer = make_scorer(gini_normalized, needs_proba=True)\n",
    "\n",
    "random_search = RandomizedSearchCV(xgb, param_distributions=param, n_iter = param_comb, scoring=scorer, cv=skf, verbose=3, random_state=1001)\n",
    "\n",
    "start = time()\n",
    "xgboost_model = random_search.fit(X_train, y_train)\n",
    "xgboost_model\n",
    "end = time()\n",
    "\n",
    "print \"Best score:\" , xgboost_model.best_score_\n",
    "print \"Best parameters:\" , xgboost_model.best_params_\n",
    "print \"Find best parameterers in {:.4f} seconds.\".format(end - start) \n",
    "    "
   ]
  },
  {
   "cell_type": "code",
   "execution_count": 67,
   "metadata": {},
   "outputs": [
    {
     "name": "stdout",
     "output_type": "stream",
     "text": [
      "Resultado na base teste:\n"
     ]
    },
    {
     "data": {
      "text/plain": [
       "0.24854592901576231"
      ]
     },
     "execution_count": 67,
     "metadata": {},
     "output_type": "execute_result"
    }
   ],
   "source": [
    "print 'Resultado na base teste:'\n",
    "gini_normalized(y_test, xgboost_model.predict_proba(X_test_final))"
   ]
  },
  {
   "cell_type": "markdown",
   "metadata": {},
   "source": [
    "### Naive Bayes"
   ]
  },
  {
   "cell_type": "markdown",
   "metadata": {
    "collapsed": true
   },
   "source": [
    "#### Algoritmo com aplicação do tratamento de escala das variáveis"
   ]
  },
  {
   "cell_type": "code",
   "execution_count": 27,
   "metadata": {},
   "outputs": [
    {
     "data": {
      "text/html": [
       "<div>\n",
       "<style>\n",
       "    .dataframe thead tr:only-child th {\n",
       "        text-align: right;\n",
       "    }\n",
       "\n",
       "    .dataframe thead th {\n",
       "        text-align: left;\n",
       "    }\n",
       "\n",
       "    .dataframe tbody tr th {\n",
       "        vertical-align: top;\n",
       "    }\n",
       "</style>\n",
       "<table border=\"1\" class=\"dataframe\">\n",
       "  <thead>\n",
       "    <tr style=\"text-align: right;\">\n",
       "      <th></th>\n",
       "      <th>ps_ind_01</th>\n",
       "      <th>ps_ind_03</th>\n",
       "      <th>ps_ind_06_bin</th>\n",
       "      <th>ps_ind_07_bin</th>\n",
       "      <th>ps_ind_08_bin</th>\n",
       "      <th>ps_ind_09_bin</th>\n",
       "      <th>ps_ind_15</th>\n",
       "      <th>ps_ind_16_bin</th>\n",
       "      <th>ps_ind_17_bin</th>\n",
       "      <th>ps_ind_18_bin</th>\n",
       "      <th>...</th>\n",
       "      <th>ps_car_05_cat_999.0</th>\n",
       "      <th>ps_car_07_cat_0.0</th>\n",
       "      <th>ps_car_07_cat_1.0</th>\n",
       "      <th>ps_car_07_cat_999.0</th>\n",
       "      <th>ps_car_08_cat_0</th>\n",
       "      <th>ps_car_08_cat_1</th>\n",
       "      <th>ps_car_09_cat_0.0</th>\n",
       "      <th>ps_car_09_cat_1.0</th>\n",
       "      <th>ps_car_09_cat_2.0</th>\n",
       "      <th>ps_car_09_cat_3.0</th>\n",
       "    </tr>\n",
       "  </thead>\n",
       "  <tbody>\n",
       "    <tr>\n",
       "      <th>418031</th>\n",
       "      <td>2</td>\n",
       "      <td>6</td>\n",
       "      <td>0</td>\n",
       "      <td>0</td>\n",
       "      <td>0</td>\n",
       "      <td>1</td>\n",
       "      <td>6</td>\n",
       "      <td>1</td>\n",
       "      <td>0</td>\n",
       "      <td>0</td>\n",
       "      <td>...</td>\n",
       "      <td>1</td>\n",
       "      <td>0</td>\n",
       "      <td>1</td>\n",
       "      <td>0</td>\n",
       "      <td>0</td>\n",
       "      <td>1</td>\n",
       "      <td>0</td>\n",
       "      <td>0</td>\n",
       "      <td>1</td>\n",
       "      <td>0</td>\n",
       "    </tr>\n",
       "    <tr>\n",
       "      <th>195572</th>\n",
       "      <td>0</td>\n",
       "      <td>1</td>\n",
       "      <td>1</td>\n",
       "      <td>0</td>\n",
       "      <td>0</td>\n",
       "      <td>0</td>\n",
       "      <td>2</td>\n",
       "      <td>0</td>\n",
       "      <td>0</td>\n",
       "      <td>1</td>\n",
       "      <td>...</td>\n",
       "      <td>1</td>\n",
       "      <td>0</td>\n",
       "      <td>1</td>\n",
       "      <td>0</td>\n",
       "      <td>1</td>\n",
       "      <td>0</td>\n",
       "      <td>0</td>\n",
       "      <td>0</td>\n",
       "      <td>1</td>\n",
       "      <td>0</td>\n",
       "    </tr>\n",
       "    <tr>\n",
       "      <th>456685</th>\n",
       "      <td>0</td>\n",
       "      <td>4</td>\n",
       "      <td>0</td>\n",
       "      <td>1</td>\n",
       "      <td>0</td>\n",
       "      <td>0</td>\n",
       "      <td>6</td>\n",
       "      <td>0</td>\n",
       "      <td>1</td>\n",
       "      <td>0</td>\n",
       "      <td>...</td>\n",
       "      <td>0</td>\n",
       "      <td>0</td>\n",
       "      <td>1</td>\n",
       "      <td>0</td>\n",
       "      <td>0</td>\n",
       "      <td>1</td>\n",
       "      <td>1</td>\n",
       "      <td>0</td>\n",
       "      <td>0</td>\n",
       "      <td>0</td>\n",
       "    </tr>\n",
       "    <tr>\n",
       "      <th>137663</th>\n",
       "      <td>0</td>\n",
       "      <td>8</td>\n",
       "      <td>1</td>\n",
       "      <td>0</td>\n",
       "      <td>0</td>\n",
       "      <td>0</td>\n",
       "      <td>3</td>\n",
       "      <td>0</td>\n",
       "      <td>0</td>\n",
       "      <td>1</td>\n",
       "      <td>...</td>\n",
       "      <td>1</td>\n",
       "      <td>0</td>\n",
       "      <td>1</td>\n",
       "      <td>0</td>\n",
       "      <td>0</td>\n",
       "      <td>1</td>\n",
       "      <td>0</td>\n",
       "      <td>0</td>\n",
       "      <td>1</td>\n",
       "      <td>0</td>\n",
       "    </tr>\n",
       "    <tr>\n",
       "      <th>233982</th>\n",
       "      <td>0</td>\n",
       "      <td>9</td>\n",
       "      <td>1</td>\n",
       "      <td>0</td>\n",
       "      <td>0</td>\n",
       "      <td>0</td>\n",
       "      <td>7</td>\n",
       "      <td>1</td>\n",
       "      <td>0</td>\n",
       "      <td>0</td>\n",
       "      <td>...</td>\n",
       "      <td>0</td>\n",
       "      <td>0</td>\n",
       "      <td>1</td>\n",
       "      <td>0</td>\n",
       "      <td>1</td>\n",
       "      <td>0</td>\n",
       "      <td>0</td>\n",
       "      <td>0</td>\n",
       "      <td>1</td>\n",
       "      <td>0</td>\n",
       "    </tr>\n",
       "  </tbody>\n",
       "</table>\n",
       "<p>5 rows × 76 columns</p>\n",
       "</div>"
      ],
      "text/plain": [
       "        ps_ind_01  ps_ind_03  ps_ind_06_bin  ps_ind_07_bin  ps_ind_08_bin  \\\n",
       "418031          2          6              0              0              0   \n",
       "195572          0          1              1              0              0   \n",
       "456685          0          4              0              1              0   \n",
       "137663          0          8              1              0              0   \n",
       "233982          0          9              1              0              0   \n",
       "\n",
       "        ps_ind_09_bin  ps_ind_15  ps_ind_16_bin  ps_ind_17_bin  ps_ind_18_bin  \\\n",
       "418031              1          6              1              0              0   \n",
       "195572              0          2              0              0              1   \n",
       "456685              0          6              0              1              0   \n",
       "137663              0          3              0              0              1   \n",
       "233982              0          7              1              0              0   \n",
       "\n",
       "              ...          ps_car_05_cat_999.0  ps_car_07_cat_0.0  \\\n",
       "418031        ...                            1                  0   \n",
       "195572        ...                            1                  0   \n",
       "456685        ...                            0                  0   \n",
       "137663        ...                            1                  0   \n",
       "233982        ...                            0                  0   \n",
       "\n",
       "        ps_car_07_cat_1.0  ps_car_07_cat_999.0  ps_car_08_cat_0  \\\n",
       "418031                  1                    0                0   \n",
       "195572                  1                    0                1   \n",
       "456685                  1                    0                0   \n",
       "137663                  1                    0                0   \n",
       "233982                  1                    0                1   \n",
       "\n",
       "        ps_car_08_cat_1  ps_car_09_cat_0.0  ps_car_09_cat_1.0  \\\n",
       "418031                1                  0                  0   \n",
       "195572                0                  0                  0   \n",
       "456685                1                  1                  0   \n",
       "137663                1                  0                  0   \n",
       "233982                0                  0                  0   \n",
       "\n",
       "        ps_car_09_cat_2.0  ps_car_09_cat_3.0  \n",
       "418031                  1                  0  \n",
       "195572                  1                  0  \n",
       "456685                  0                  0  \n",
       "137663                  1                  0  \n",
       "233982                  1                  0  \n",
       "\n",
       "[5 rows x 76 columns]"
      ]
     },
     "execution_count": 27,
     "metadata": {},
     "output_type": "execute_result"
    }
   ],
   "source": [
    "X_train_copy = X_train.copy()\n",
    "X_train_copy.head()"
   ]
  },
  {
   "cell_type": "code",
   "execution_count": 28,
   "metadata": {},
   "outputs": [
    {
     "data": {
      "text/html": [
       "<div>\n",
       "<style>\n",
       "    .dataframe thead tr:only-child th {\n",
       "        text-align: right;\n",
       "    }\n",
       "\n",
       "    .dataframe thead th {\n",
       "        text-align: left;\n",
       "    }\n",
       "\n",
       "    .dataframe tbody tr th {\n",
       "        vertical-align: top;\n",
       "    }\n",
       "</style>\n",
       "<table border=\"1\" class=\"dataframe\">\n",
       "  <thead>\n",
       "    <tr style=\"text-align: right;\">\n",
       "      <th></th>\n",
       "      <th>ps_ind_01</th>\n",
       "      <th>ps_ind_03</th>\n",
       "      <th>ps_ind_06_bin</th>\n",
       "      <th>ps_ind_07_bin</th>\n",
       "      <th>ps_ind_08_bin</th>\n",
       "      <th>ps_ind_09_bin</th>\n",
       "      <th>ps_ind_15</th>\n",
       "      <th>ps_ind_16_bin</th>\n",
       "      <th>ps_ind_17_bin</th>\n",
       "      <th>ps_ind_18_bin</th>\n",
       "      <th>...</th>\n",
       "      <th>ps_car_05_cat_999.0</th>\n",
       "      <th>ps_car_07_cat_0.0</th>\n",
       "      <th>ps_car_07_cat_1.0</th>\n",
       "      <th>ps_car_07_cat_999.0</th>\n",
       "      <th>ps_car_08_cat_0</th>\n",
       "      <th>ps_car_08_cat_1</th>\n",
       "      <th>ps_car_09_cat_0.0</th>\n",
       "      <th>ps_car_09_cat_1.0</th>\n",
       "      <th>ps_car_09_cat_2.0</th>\n",
       "      <th>ps_car_09_cat_3.0</th>\n",
       "    </tr>\n",
       "  </thead>\n",
       "  <tbody>\n",
       "    <tr>\n",
       "      <th>418031</th>\n",
       "      <td>0.050834</td>\n",
       "      <td>0.585358</td>\n",
       "      <td>-0.805861</td>\n",
       "      <td>-0.587875</td>\n",
       "      <td>-0.443145</td>\n",
       "      <td>2.096835</td>\n",
       "      <td>-0.366589</td>\n",
       "      <td>0.717198</td>\n",
       "      <td>-0.371500</td>\n",
       "      <td>-0.426363</td>\n",
       "      <td>...</td>\n",
       "      <td>1.107111</td>\n",
       "      <td>-0.232761</td>\n",
       "      <td>0.276247</td>\n",
       "      <td>-0.141054</td>\n",
       "      <td>-0.449212</td>\n",
       "      <td>0.449212</td>\n",
       "      <td>-0.695645</td>\n",
       "      <td>-0.226612</td>\n",
       "      <td>0.825651</td>\n",
       "      <td>-0.159067</td>\n",
       "    </tr>\n",
       "    <tr>\n",
       "      <th>195572</th>\n",
       "      <td>-0.958556</td>\n",
       "      <td>-1.266858</td>\n",
       "      <td>1.240909</td>\n",
       "      <td>-0.587875</td>\n",
       "      <td>-0.443145</td>\n",
       "      <td>-0.476909</td>\n",
       "      <td>-1.494606</td>\n",
       "      <td>-1.394315</td>\n",
       "      <td>-0.371500</td>\n",
       "      <td>2.345417</td>\n",
       "      <td>...</td>\n",
       "      <td>1.107111</td>\n",
       "      <td>-0.232761</td>\n",
       "      <td>0.276247</td>\n",
       "      <td>-0.141054</td>\n",
       "      <td>2.226118</td>\n",
       "      <td>-2.226118</td>\n",
       "      <td>-0.695645</td>\n",
       "      <td>-0.226612</td>\n",
       "      <td>0.825651</td>\n",
       "      <td>-0.159067</td>\n",
       "    </tr>\n",
       "    <tr>\n",
       "      <th>456685</th>\n",
       "      <td>-0.958556</td>\n",
       "      <td>-0.155528</td>\n",
       "      <td>-0.805861</td>\n",
       "      <td>1.701042</td>\n",
       "      <td>-0.443145</td>\n",
       "      <td>-0.476909</td>\n",
       "      <td>-0.366589</td>\n",
       "      <td>-1.394315</td>\n",
       "      <td>2.691788</td>\n",
       "      <td>-0.426363</td>\n",
       "      <td>...</td>\n",
       "      <td>-0.903251</td>\n",
       "      <td>-0.232761</td>\n",
       "      <td>0.276247</td>\n",
       "      <td>-0.141054</td>\n",
       "      <td>-0.449212</td>\n",
       "      <td>0.449212</td>\n",
       "      <td>1.437516</td>\n",
       "      <td>-0.226612</td>\n",
       "      <td>-1.211165</td>\n",
       "      <td>-0.159067</td>\n",
       "    </tr>\n",
       "    <tr>\n",
       "      <th>137663</th>\n",
       "      <td>-0.958556</td>\n",
       "      <td>1.326244</td>\n",
       "      <td>1.240909</td>\n",
       "      <td>-0.587875</td>\n",
       "      <td>-0.443145</td>\n",
       "      <td>-0.476909</td>\n",
       "      <td>-1.212602</td>\n",
       "      <td>-1.394315</td>\n",
       "      <td>-0.371500</td>\n",
       "      <td>2.345417</td>\n",
       "      <td>...</td>\n",
       "      <td>1.107111</td>\n",
       "      <td>-0.232761</td>\n",
       "      <td>0.276247</td>\n",
       "      <td>-0.141054</td>\n",
       "      <td>-0.449212</td>\n",
       "      <td>0.449212</td>\n",
       "      <td>-0.695645</td>\n",
       "      <td>-0.226612</td>\n",
       "      <td>0.825651</td>\n",
       "      <td>-0.159067</td>\n",
       "    </tr>\n",
       "    <tr>\n",
       "      <th>233982</th>\n",
       "      <td>-0.958556</td>\n",
       "      <td>1.696687</td>\n",
       "      <td>1.240909</td>\n",
       "      <td>-0.587875</td>\n",
       "      <td>-0.443145</td>\n",
       "      <td>-0.476909</td>\n",
       "      <td>-0.084585</td>\n",
       "      <td>0.717198</td>\n",
       "      <td>-0.371500</td>\n",
       "      <td>-0.426363</td>\n",
       "      <td>...</td>\n",
       "      <td>-0.903251</td>\n",
       "      <td>-0.232761</td>\n",
       "      <td>0.276247</td>\n",
       "      <td>-0.141054</td>\n",
       "      <td>2.226118</td>\n",
       "      <td>-2.226118</td>\n",
       "      <td>-0.695645</td>\n",
       "      <td>-0.226612</td>\n",
       "      <td>0.825651</td>\n",
       "      <td>-0.159067</td>\n",
       "    </tr>\n",
       "  </tbody>\n",
       "</table>\n",
       "<p>5 rows × 76 columns</p>\n",
       "</div>"
      ],
      "text/plain": [
       "        ps_ind_01  ps_ind_03  ps_ind_06_bin  ps_ind_07_bin  ps_ind_08_bin  \\\n",
       "418031   0.050834   0.585358      -0.805861      -0.587875      -0.443145   \n",
       "195572  -0.958556  -1.266858       1.240909      -0.587875      -0.443145   \n",
       "456685  -0.958556  -0.155528      -0.805861       1.701042      -0.443145   \n",
       "137663  -0.958556   1.326244       1.240909      -0.587875      -0.443145   \n",
       "233982  -0.958556   1.696687       1.240909      -0.587875      -0.443145   \n",
       "\n",
       "        ps_ind_09_bin  ps_ind_15  ps_ind_16_bin  ps_ind_17_bin  ps_ind_18_bin  \\\n",
       "418031       2.096835  -0.366589       0.717198      -0.371500      -0.426363   \n",
       "195572      -0.476909  -1.494606      -1.394315      -0.371500       2.345417   \n",
       "456685      -0.476909  -0.366589      -1.394315       2.691788      -0.426363   \n",
       "137663      -0.476909  -1.212602      -1.394315      -0.371500       2.345417   \n",
       "233982      -0.476909  -0.084585       0.717198      -0.371500      -0.426363   \n",
       "\n",
       "              ...          ps_car_05_cat_999.0  ps_car_07_cat_0.0  \\\n",
       "418031        ...                     1.107111          -0.232761   \n",
       "195572        ...                     1.107111          -0.232761   \n",
       "456685        ...                    -0.903251          -0.232761   \n",
       "137663        ...                     1.107111          -0.232761   \n",
       "233982        ...                    -0.903251          -0.232761   \n",
       "\n",
       "        ps_car_07_cat_1.0  ps_car_07_cat_999.0  ps_car_08_cat_0  \\\n",
       "418031           0.276247            -0.141054        -0.449212   \n",
       "195572           0.276247            -0.141054         2.226118   \n",
       "456685           0.276247            -0.141054        -0.449212   \n",
       "137663           0.276247            -0.141054        -0.449212   \n",
       "233982           0.276247            -0.141054         2.226118   \n",
       "\n",
       "        ps_car_08_cat_1  ps_car_09_cat_0.0  ps_car_09_cat_1.0  \\\n",
       "418031         0.449212          -0.695645          -0.226612   \n",
       "195572        -2.226118          -0.695645          -0.226612   \n",
       "456685         0.449212           1.437516          -0.226612   \n",
       "137663         0.449212          -0.695645          -0.226612   \n",
       "233982        -2.226118          -0.695645          -0.226612   \n",
       "\n",
       "        ps_car_09_cat_2.0  ps_car_09_cat_3.0  \n",
       "418031           0.825651          -0.159067  \n",
       "195572           0.825651          -0.159067  \n",
       "456685          -1.211165          -0.159067  \n",
       "137663           0.825651          -0.159067  \n",
       "233982           0.825651          -0.159067  \n",
       "\n",
       "[5 rows x 76 columns]"
      ]
     },
     "execution_count": 28,
     "metadata": {},
     "output_type": "execute_result"
    }
   ],
   "source": [
    "from sklearn.preprocessing import StandardScaler\n",
    "\n",
    "scaler = StandardScaler()\n",
    "X_train_np = scaler.fit_transform(X_train_copy)\n",
    "X_train_np\n",
    "X_train_s = pd.DataFrame(X_train_np, columns = X_train_copy.columns, index = X_train_copy.index)\n",
    "X_train_s.head()"
   ]
  },
  {
   "cell_type": "code",
   "execution_count": 35,
   "metadata": {},
   "outputs": [
    {
     "name": "stderr",
     "output_type": "stream",
     "text": [
      "C:\\Users\\rhais\\Anaconda2\\lib\\site-packages\\ipykernel_launcher.py:11: SettingWithCopyWarning: \n",
      "A value is trying to be set on a copy of a slice from a DataFrame.\n",
      "Try using .loc[row_indexer,col_indexer] = value instead\n",
      "\n",
      "See the caveats in the documentation: http://pandas.pydata.org/pandas-docs/stable/indexing.html#indexing-view-versus-copy\n",
      "  # This is added back by InteractiveShellApp.init_path()\n",
      "C:\\Users\\rhais\\Anaconda2\\lib\\site-packages\\ipykernel_launcher.py:12: SettingWithCopyWarning: \n",
      "A value is trying to be set on a copy of a slice from a DataFrame.\n",
      "Try using .loc[row_indexer,col_indexer] = value instead\n",
      "\n",
      "See the caveats in the documentation: http://pandas.pydata.org/pandas-docs/stable/indexing.html#indexing-view-versus-copy\n",
      "  if sys.path[0] == '':\n",
      "C:\\Users\\rhais\\Anaconda2\\lib\\site-packages\\ipykernel_launcher.py:44: SettingWithCopyWarning: \n",
      "A value is trying to be set on a copy of a slice from a DataFrame.\n",
      "Try using .loc[row_indexer,col_indexer] = value instead\n",
      "\n",
      "See the caveats in the documentation: http://pandas.pydata.org/pandas-docs/stable/indexing.html#indexing-view-versus-copy\n"
     ]
    },
    {
     "name": "stdout",
     "output_type": "stream",
     "text": [
      "Index([u'ps_ind_01', u'ps_ind_03', u'ps_ind_06_bin', u'ps_ind_07_bin',\n",
      "       u'ps_ind_08_bin', u'ps_ind_09_bin', u'ps_ind_10_bin', u'ps_ind_11_bin',\n",
      "       u'ps_ind_12_bin', u'ps_ind_13_bin', u'ps_ind_14', u'ps_ind_15',\n",
      "       u'ps_ind_16_bin', u'ps_ind_17_bin', u'ps_ind_18_bin', u'ps_reg_01',\n",
      "       u'ps_reg_02', u'ps_reg_03', u'ps_car_01_cat', u'ps_car_06_cat',\n",
      "       u'ps_car_11_cat', u'ps_car_11', u'ps_car_12', u'ps_car_13',\n",
      "       u'ps_car_14', u'ps_car_15', u'ps_calc_01', u'ps_calc_02', u'ps_calc_03',\n",
      "       u'ps_calc_04', u'ps_calc_05', u'ps_calc_06', u'ps_calc_07',\n",
      "       u'ps_calc_08', u'ps_calc_09', u'ps_calc_10', u'ps_calc_11',\n",
      "       u'ps_calc_12', u'ps_calc_13', u'ps_calc_14', u'ps_calc_15_bin',\n",
      "       u'ps_calc_16_bin', u'ps_calc_17_bin', u'ps_calc_18_bin',\n",
      "       u'ps_calc_19_bin', u'ps_calc_20_bin', u'n_miss', u'ps_reg_03_MED',\n",
      "       u'ps_reg_03_MEAN', u'ps_car_11_cat_v2', u'ps_ind_02_cat_1.0',\n",
      "       u'ps_ind_02_cat_2.0', u'ps_ind_02_cat_3.0', u'ps_ind_02_cat_4.0',\n",
      "       u'ps_ind_02_cat_999.0', u'ps_ind_04_cat_0.0', u'ps_ind_04_cat_1.0',\n",
      "       u'ps_ind_04_cat_999.0', u'ps_ind_05_cat_0.0', u'ps_ind_05_cat_1.0',\n",
      "       u'ps_ind_05_cat_2.0', u'ps_ind_05_cat_3.0', u'ps_ind_05_cat_4.0',\n",
      "       u'ps_ind_05_cat_5.0', u'ps_ind_05_cat_6.0', u'ps_ind_05_cat_999.0',\n",
      "       u'ps_car_02_cat_0.0', u'ps_car_02_cat_1.0', u'ps_car_02_cat_999.0',\n",
      "       u'ps_car_03_cat_0.0', u'ps_car_03_cat_1.0', u'ps_car_03_cat_999.0',\n",
      "       u'ps_car_04_cat_0', u'ps_car_04_cat_1', u'ps_car_04_cat_2',\n",
      "       u'ps_car_04_cat_3', u'ps_car_04_cat_4', u'ps_car_04_cat_5',\n",
      "       u'ps_car_04_cat_6', u'ps_car_04_cat_7', u'ps_car_04_cat_8',\n",
      "       u'ps_car_04_cat_9', u'ps_car_05_cat_0.0', u'ps_car_05_cat_1.0',\n",
      "       u'ps_car_05_cat_999.0', u'ps_car_07_cat_0.0', u'ps_car_07_cat_1.0',\n",
      "       u'ps_car_07_cat_999.0', u'ps_car_08_cat_0', u'ps_car_08_cat_1',\n",
      "       u'ps_car_09_cat_0.0', u'ps_car_09_cat_1.0', u'ps_car_09_cat_2.0',\n",
      "       u'ps_car_09_cat_3.0', u'ps_car_09_cat_4.0', u'ps_car_09_cat_999.0',\n",
      "       u'ps_car_10_cat_0', u'ps_car_10_cat_1', u'ps_car_10_cat_2'],\n",
      "      dtype='object')\n"
     ]
    },
    {
     "data": {
      "text/html": [
       "<div>\n",
       "<style>\n",
       "    .dataframe thead tr:only-child th {\n",
       "        text-align: right;\n",
       "    }\n",
       "\n",
       "    .dataframe thead th {\n",
       "        text-align: left;\n",
       "    }\n",
       "\n",
       "    .dataframe tbody tr th {\n",
       "        vertical-align: top;\n",
       "    }\n",
       "</style>\n",
       "<table border=\"1\" class=\"dataframe\">\n",
       "  <thead>\n",
       "    <tr style=\"text-align: right;\">\n",
       "      <th></th>\n",
       "      <th>ps_ind_01</th>\n",
       "      <th>ps_ind_03</th>\n",
       "      <th>ps_ind_06_bin</th>\n",
       "      <th>ps_ind_07_bin</th>\n",
       "      <th>ps_ind_08_bin</th>\n",
       "      <th>ps_ind_09_bin</th>\n",
       "      <th>ps_ind_15</th>\n",
       "      <th>ps_ind_16_bin</th>\n",
       "      <th>ps_ind_17_bin</th>\n",
       "      <th>ps_ind_18_bin</th>\n",
       "      <th>...</th>\n",
       "      <th>ps_car_05_cat_999.0</th>\n",
       "      <th>ps_car_07_cat_0.0</th>\n",
       "      <th>ps_car_07_cat_1.0</th>\n",
       "      <th>ps_car_07_cat_999.0</th>\n",
       "      <th>ps_car_08_cat_0</th>\n",
       "      <th>ps_car_08_cat_1</th>\n",
       "      <th>ps_car_09_cat_0.0</th>\n",
       "      <th>ps_car_09_cat_1.0</th>\n",
       "      <th>ps_car_09_cat_2.0</th>\n",
       "      <th>ps_car_09_cat_3.0</th>\n",
       "    </tr>\n",
       "  </thead>\n",
       "  <tbody>\n",
       "    <tr>\n",
       "      <th>153095</th>\n",
       "      <td>-0.958556</td>\n",
       "      <td>-0.525971</td>\n",
       "      <td>1.240909</td>\n",
       "      <td>-0.587875</td>\n",
       "      <td>-0.443145</td>\n",
       "      <td>-0.476909</td>\n",
       "      <td>1.607441</td>\n",
       "      <td>0.717198</td>\n",
       "      <td>-0.3715</td>\n",
       "      <td>-0.426363</td>\n",
       "      <td>...</td>\n",
       "      <td>1.107111</td>\n",
       "      <td>-0.232761</td>\n",
       "      <td>0.276247</td>\n",
       "      <td>-0.141054</td>\n",
       "      <td>-0.449212</td>\n",
       "      <td>0.449212</td>\n",
       "      <td>-0.695645</td>\n",
       "      <td>-0.226612</td>\n",
       "      <td>0.825651</td>\n",
       "      <td>-0.159067</td>\n",
       "    </tr>\n",
       "    <tr>\n",
       "      <th>82143</th>\n",
       "      <td>0.050834</td>\n",
       "      <td>-0.525971</td>\n",
       "      <td>-0.805861</td>\n",
       "      <td>-0.587875</td>\n",
       "      <td>2.256598</td>\n",
       "      <td>-0.476909</td>\n",
       "      <td>1.043432</td>\n",
       "      <td>0.717198</td>\n",
       "      <td>-0.3715</td>\n",
       "      <td>-0.426363</td>\n",
       "      <td>...</td>\n",
       "      <td>-0.903251</td>\n",
       "      <td>-0.232761</td>\n",
       "      <td>0.276247</td>\n",
       "      <td>-0.141054</td>\n",
       "      <td>-0.449212</td>\n",
       "      <td>0.449212</td>\n",
       "      <td>1.437516</td>\n",
       "      <td>-0.226612</td>\n",
       "      <td>-1.211165</td>\n",
       "      <td>-0.159067</td>\n",
       "    </tr>\n",
       "    <tr>\n",
       "      <th>473974</th>\n",
       "      <td>1.060225</td>\n",
       "      <td>0.585358</td>\n",
       "      <td>-0.805861</td>\n",
       "      <td>-0.587875</td>\n",
       "      <td>-0.443145</td>\n",
       "      <td>2.096835</td>\n",
       "      <td>-1.212602</td>\n",
       "      <td>0.717198</td>\n",
       "      <td>-0.3715</td>\n",
       "      <td>-0.426363</td>\n",
       "      <td>...</td>\n",
       "      <td>-0.903251</td>\n",
       "      <td>-0.232761</td>\n",
       "      <td>0.276247</td>\n",
       "      <td>-0.141054</td>\n",
       "      <td>2.226118</td>\n",
       "      <td>-2.226118</td>\n",
       "      <td>-0.695645</td>\n",
       "      <td>-0.226612</td>\n",
       "      <td>0.825651</td>\n",
       "      <td>-0.159067</td>\n",
       "    </tr>\n",
       "    <tr>\n",
       "      <th>191474</th>\n",
       "      <td>-0.958556</td>\n",
       "      <td>-0.896414</td>\n",
       "      <td>-0.805861</td>\n",
       "      <td>-0.587875</td>\n",
       "      <td>-0.443145</td>\n",
       "      <td>2.096835</td>\n",
       "      <td>-0.084585</td>\n",
       "      <td>0.717198</td>\n",
       "      <td>-0.3715</td>\n",
       "      <td>-0.426363</td>\n",
       "      <td>...</td>\n",
       "      <td>-0.903251</td>\n",
       "      <td>-0.232761</td>\n",
       "      <td>0.276247</td>\n",
       "      <td>-0.141054</td>\n",
       "      <td>-0.449212</td>\n",
       "      <td>0.449212</td>\n",
       "      <td>1.437516</td>\n",
       "      <td>-0.226612</td>\n",
       "      <td>-1.211165</td>\n",
       "      <td>-0.159067</td>\n",
       "    </tr>\n",
       "    <tr>\n",
       "      <th>170530</th>\n",
       "      <td>1.564920</td>\n",
       "      <td>-0.525971</td>\n",
       "      <td>1.240909</td>\n",
       "      <td>-0.587875</td>\n",
       "      <td>-0.443145</td>\n",
       "      <td>-0.476909</td>\n",
       "      <td>0.761428</td>\n",
       "      <td>-1.394315</td>\n",
       "      <td>-0.3715</td>\n",
       "      <td>-0.426363</td>\n",
       "      <td>...</td>\n",
       "      <td>-0.903251</td>\n",
       "      <td>4.296244</td>\n",
       "      <td>-3.619953</td>\n",
       "      <td>-0.141054</td>\n",
       "      <td>-0.449212</td>\n",
       "      <td>0.449212</td>\n",
       "      <td>1.437516</td>\n",
       "      <td>-0.226612</td>\n",
       "      <td>-1.211165</td>\n",
       "      <td>-0.159067</td>\n",
       "    </tr>\n",
       "  </tbody>\n",
       "</table>\n",
       "<p>5 rows × 76 columns</p>\n",
       "</div>"
      ],
      "text/plain": [
       "        ps_ind_01  ps_ind_03  ps_ind_06_bin  ps_ind_07_bin  ps_ind_08_bin  \\\n",
       "153095  -0.958556  -0.525971       1.240909      -0.587875      -0.443145   \n",
       "82143    0.050834  -0.525971      -0.805861      -0.587875       2.256598   \n",
       "473974   1.060225   0.585358      -0.805861      -0.587875      -0.443145   \n",
       "191474  -0.958556  -0.896414      -0.805861      -0.587875      -0.443145   \n",
       "170530   1.564920  -0.525971       1.240909      -0.587875      -0.443145   \n",
       "\n",
       "        ps_ind_09_bin  ps_ind_15  ps_ind_16_bin  ps_ind_17_bin  ps_ind_18_bin  \\\n",
       "153095      -0.476909   1.607441       0.717198        -0.3715      -0.426363   \n",
       "82143       -0.476909   1.043432       0.717198        -0.3715      -0.426363   \n",
       "473974       2.096835  -1.212602       0.717198        -0.3715      -0.426363   \n",
       "191474       2.096835  -0.084585       0.717198        -0.3715      -0.426363   \n",
       "170530      -0.476909   0.761428      -1.394315        -0.3715      -0.426363   \n",
       "\n",
       "              ...          ps_car_05_cat_999.0  ps_car_07_cat_0.0  \\\n",
       "153095        ...                     1.107111          -0.232761   \n",
       "82143         ...                    -0.903251          -0.232761   \n",
       "473974        ...                    -0.903251          -0.232761   \n",
       "191474        ...                    -0.903251          -0.232761   \n",
       "170530        ...                    -0.903251           4.296244   \n",
       "\n",
       "        ps_car_07_cat_1.0  ps_car_07_cat_999.0  ps_car_08_cat_0  \\\n",
       "153095           0.276247            -0.141054        -0.449212   \n",
       "82143            0.276247            -0.141054        -0.449212   \n",
       "473974           0.276247            -0.141054         2.226118   \n",
       "191474           0.276247            -0.141054        -0.449212   \n",
       "170530          -3.619953            -0.141054        -0.449212   \n",
       "\n",
       "        ps_car_08_cat_1  ps_car_09_cat_0.0  ps_car_09_cat_1.0  \\\n",
       "153095         0.449212          -0.695645          -0.226612   \n",
       "82143          0.449212           1.437516          -0.226612   \n",
       "473974        -2.226118          -0.695645          -0.226612   \n",
       "191474         0.449212           1.437516          -0.226612   \n",
       "170530         0.449212           1.437516          -0.226612   \n",
       "\n",
       "        ps_car_09_cat_2.0  ps_car_09_cat_3.0  \n",
       "153095           0.825651          -0.159067  \n",
       "82143           -1.211165          -0.159067  \n",
       "473974           0.825651          -0.159067  \n",
       "191474          -1.211165          -0.159067  \n",
       "170530          -1.211165          -0.159067  \n",
       "\n",
       "[5 rows x 76 columns]"
      ]
     },
     "execution_count": 35,
     "metadata": {},
     "output_type": "execute_result"
    }
   ],
   "source": [
    "X_test_final = transf_new_data(X_test)\n",
    "X_test_final_s = scaler.transform(X_test_final)\n",
    "X_test_final_s_df = pd.DataFrame(X_test_final_s, columns = X_test_final.columns, index = X_test_final.index)\n",
    "X_test_final_s_df.head()"
   ]
  },
  {
   "cell_type": "code",
   "execution_count": 29,
   "metadata": {
    "collapsed": true
   },
   "outputs": [],
   "source": [
    "del X_train_np\n",
    "del X_train_copy"
   ]
  },
  {
   "cell_type": "code",
   "execution_count": 30,
   "metadata": {},
   "outputs": [
    {
     "data": {
      "text/plain": [
       "GaussianNB(priors=None)"
      ]
     },
     "execution_count": 30,
     "metadata": {},
     "output_type": "execute_result"
    }
   ],
   "source": [
    "clf = GaussianNB()\n",
    "NB = clf.fit(X_train_s, y_train)\n",
    "NB"
   ]
  },
  {
   "cell_type": "code",
   "execution_count": 33,
   "metadata": {},
   "outputs": [
    {
     "data": {
      "text/plain": [
       "0.8461651081968472"
      ]
     },
     "execution_count": 33,
     "metadata": {},
     "output_type": "execute_result"
    }
   ],
   "source": [
    "NB.score(X_train_s, y_train)"
   ]
  },
  {
   "cell_type": "code",
   "execution_count": 34,
   "metadata": {},
   "outputs": [
    {
     "name": "stdout",
     "output_type": "stream",
     "text": [
      "Resultado na base treino:\n",
      "0.226617860283\n"
     ]
    }
   ],
   "source": [
    "print 'Resultado na base treino:'\n",
    "print gini_normalized(y_train, NB.predict_proba(X_train_s))"
   ]
  },
  {
   "cell_type": "code",
   "execution_count": 36,
   "metadata": {},
   "outputs": [
    {
     "name": "stdout",
     "output_type": "stream",
     "text": [
      "Resultado na base teste:\n",
      "0.219524779189\n"
     ]
    }
   ],
   "source": [
    "print 'Resultado na base teste:'\n",
    "print gini_normalized(y_test, NB.predict_proba(X_test_final_s_df))"
   ]
  },
  {
   "cell_type": "markdown",
   "metadata": {
    "collapsed": true
   },
   "source": [
    "-------------------------------------------------------------------------------------------------------------\n",
    "-------------------------------------------------------------------------------------------------------------\n",
    "-------------------------------------------------------------------------------------------------------------\n",
    "## Refinamento"
   ]
  },
  {
   "cell_type": "markdown",
   "metadata": {},
   "source": [
    "### Gradient Boosting versão 2"
   ]
  },
  {
   "cell_type": "markdown",
   "metadata": {},
   "source": [
    "#### exclusão de variáveis e melhora do Grid Search"
   ]
  },
  {
   "cell_type": "code",
   "execution_count": 34,
   "metadata": {},
   "outputs": [
    {
     "name": "stdout",
     "output_type": "stream",
     "text": [
      "columns will be dropped:\n",
      "                      nzv\n",
      "ps_reg_03_MED        True\n",
      "ps_ind_02_cat_3.0    True\n",
      "ps_ind_02_cat_4.0    True\n",
      "ps_ind_05_cat_1.0    True\n",
      "ps_ind_05_cat_3.0    True\n",
      "ps_ind_05_cat_4.0    True\n",
      "ps_ind_05_cat_6.0    True\n",
      "ps_car_04_cat_2      True\n",
      "ps_car_04_cat_8      True\n",
      "ps_car_04_cat_9      True\n",
      "ps_car_07_cat_999.0  True\n",
      "ps_car_09_cat_1.0    True\n",
      "ps_car_09_cat_3.0    True\n",
      "13\n"
     ]
    }
   ],
   "source": [
    "array_nzv = []\n",
    "for i in X_train.columns:\n",
    "    nzv = nearZeroVariance (X_train[i],freqCut = 95/5, uniqueCut = 0.005)\n",
    "    array_nzv.append(nzv)\n",
    "    \n",
    "    \n",
    "nzv_df = pd.DataFrame(array_nzv, index= X_train.columns, columns = ['nzv'])\n",
    "true_nzv = nzv_df[nzv_df['nzv'] == True]\n",
    "print('columns will be dropped:')\n",
    "print(true_nzv)\n",
    "print(len(true_nzv))\n",
    "#true_nzv.index"
   ]
  },
  {
   "cell_type": "code",
   "execution_count": 35,
   "metadata": {},
   "outputs": [
    {
     "name": "stdout",
     "output_type": "stream",
     "text": [
      "Index([u'ps_reg_03_MED', u'ps_ind_02_cat_3.0', u'ps_ind_02_cat_4.0',\n",
      "       u'ps_ind_05_cat_1.0', u'ps_ind_05_cat_3.0', u'ps_ind_05_cat_4.0',\n",
      "       u'ps_ind_05_cat_6.0', u'ps_car_04_cat_2', u'ps_car_04_cat_8',\n",
      "       u'ps_car_04_cat_9', u'ps_car_07_cat_999.0', u'ps_car_09_cat_1.0',\n",
      "       u'ps_car_09_cat_3.0'],\n",
      "      dtype='object')\n"
     ]
    }
   ],
   "source": [
    "true_nzv_drop = true_nzv.index\n",
    "print(true_nzv_drop)\n",
    "len(true_nzv_drop)\n",
    "\n",
    "X_train_2 = X_train.drop(true_nzv_drop, axis = 1)"
   ]
  },
  {
   "cell_type": "code",
   "execution_count": 36,
   "metadata": {
    "collapsed": true
   },
   "outputs": [],
   "source": [
    "X_test_final_2 = X_test_final.drop(true_nzv_drop, axis = 1)"
   ]
  },
  {
   "cell_type": "code",
   "execution_count": 105,
   "metadata": {},
   "outputs": [
    {
     "name": "stdout",
     "output_type": "stream",
     "text": [
      "Best score: 0.281395687621\n",
      "Best parameters: {'n_estimators': 200, 'learning_rate': 0.07, 'max_depth': 4}\n",
      "Find best parameterers in 19489.5100 seconds.\n"
     ]
    },
    {
     "data": {
      "text/plain": [
       "GradientBoostingClassifier(criterion='friedman_mse', init=None,\n",
       "              learning_rate=0.07, loss='deviance', max_depth=4,\n",
       "              max_features=None, max_leaf_nodes=None,\n",
       "              min_impurity_split=1e-07, min_samples_leaf=1,\n",
       "              min_samples_split=2, min_weight_fraction_leaf=0.0,\n",
       "              n_estimators=200, presort='auto', random_state=403,\n",
       "              subsample=1.0, verbose=0, warm_start=False)"
      ]
     },
     "execution_count": 105,
     "metadata": {},
     "output_type": "execute_result"
    }
   ],
   "source": [
    "params_GB = dict(n_estimators = [200],\n",
    "                  learning_rate = [0.07, 1],\n",
    "                  #max_features  = [8],\n",
    "                  max_depth = [4, 7])\n",
    "\n",
    "scorer = make_scorer(gini_normalized, needs_proba = True, greater_is_better = True)\n",
    "GB_3 = grid_search_model(X_train_2, y_train, GradientBoostingClassifier(random_state=403), params_GB, scorer = scorer, random_cv=10 )\n",
    "GB_3"
   ]
  },
  {
   "cell_type": "code",
   "execution_count": 107,
   "metadata": {},
   "outputs": [
    {
     "name": "stdout",
     "output_type": "stream",
     "text": [
      "Resultado na base teste:\n",
      "0.269279286754\n"
     ]
    }
   ],
   "source": [
    "print 'Resultado na base teste:'\n",
    "print gini_normalized(y_test, GB_3.predict_proba(X_test_final_2))"
   ]
  },
  {
   "cell_type": "code",
   "execution_count": 27,
   "metadata": {
    "collapsed": true
   },
   "outputs": [],
   "source": [
    "from sklearn.externals import joblib"
   ]
  },
  {
   "cell_type": "code",
   "execution_count": 29,
   "metadata": {},
   "outputs": [
    {
     "data": {
      "text/plain": [
       "['gb_classif_final.pkl']"
      ]
     },
     "execution_count": 29,
     "metadata": {},
     "output_type": "execute_result"
    }
   ],
   "source": [
    "joblib.dump(GB_3, 'gb_classif_final.pkl')"
   ]
  },
  {
   "cell_type": "code",
   "execution_count": 37,
   "metadata": {},
   "outputs": [
    {
     "data": {
      "image/png": "[encoded data removed]",
      "text/plain": [
       "<matplotlib.figure.Figure at 0x1321a2b0>"
      ]
     },
     "metadata": {},
     "output_type": "display_data"
    }
   ],
   "source": [
    "features_importance (GB_3, X_train_2, 15)"
   ]
  },
  {
   "cell_type": "markdown",
   "metadata": {},
   "source": [
    "#### Export das probabilidades Análise de Recall e Precision"
   ]
  },
  {
   "cell_type": "code",
   "execution_count": 79,
   "metadata": {
    "collapsed": true
   },
   "outputs": [],
   "source": [
    "y_test_export = y_test.reset_index(drop=True)\n",
    "base = pd.concat([ pd.DataFrame(GB_3.predict_proba(X_test_final_2)[:,1]), pd.DataFrame(y_test_export)], axis = 1)\n",
    "base.columns=['prob', 'target']\n",
    "base.to_csv('info.csv', index=False, decimal = ',', sep=';')"
   ]
  },
  {
   "cell_type": "markdown",
   "metadata": {},
   "source": [
    "### Light GBM versão 2"
   ]
  },
  {
   "cell_type": "code",
   "execution_count": 38,
   "metadata": {},
   "outputs": [
    {
     "name": "stdout",
     "output_type": "stream",
     "text": [
      "Training LGBM model...\n",
      "Training until validation scores don't improve for 100 rounds.\n",
      "[10]\ttraining's auc: 0.657418\ttraining's gini: 0.314836\tvalid_1's auc: 0.623546\tvalid_1's gini: 0.247092\n",
      "[20]\ttraining's auc: 0.668218\ttraining's gini: 0.336436\tvalid_1's auc: 0.63152\tvalid_1's gini: 0.26304\n",
      "[30]\ttraining's auc: 0.675982\ttraining's gini: 0.351963\tvalid_1's auc: 0.633549\tvalid_1's gini: 0.267098\n",
      "[40]\ttraining's auc: 0.682611\ttraining's gini: 0.365223\tvalid_1's auc: 0.635389\tvalid_1's gini: 0.270777\n",
      "[50]\ttraining's auc: 0.688792\ttraining's gini: 0.377583\tvalid_1's auc: 0.636518\tvalid_1's gini: 0.273037\n",
      "[60]\ttraining's auc: 0.695264\ttraining's gini: 0.390529\tvalid_1's auc: 0.637253\tvalid_1's gini: 0.274506\n",
      "[70]\ttraining's auc: 0.701842\ttraining's gini: 0.403683\tvalid_1's auc: 0.637751\tvalid_1's gini: 0.275503\n",
      "[80]\ttraining's auc: 0.708254\ttraining's gini: 0.416508\tvalid_1's auc: 0.638412\tvalid_1's gini: 0.276823\n",
      "[90]\ttraining's auc: 0.714651\ttraining's gini: 0.429301\tvalid_1's auc: 0.638279\tvalid_1's gini: 0.276559\n",
      "[100]\ttraining's auc: 0.7209\ttraining's gini: 0.441799\tvalid_1's auc: 0.638182\tvalid_1's gini: 0.276363\n",
      "Did not meet early stopping. Best iteration is:\n",
      "[100]\ttraining's auc: 0.7209\ttraining's gini: 0.441799\tvalid_1's auc: 0.638182\tvalid_1's gini: 0.276363\n",
      "End training\n"
     ]
    }
   ],
   "source": [
    "import lightgbm as lgb\n",
    "\n",
    "X_train_3, X_valid_2, y_train_3, y_valid_2 = train_test_split(X_train_2, y_train, test_size=0.15, random_state = 12)\n",
    "\n",
    "d_train = lgb.Dataset(X_train_3, label=y_train_3)\n",
    "d_valid = lgb.Dataset(X_valid_2, label=y_valid_2) \n",
    "\n",
    "\n",
    "#Split\n",
    "watchlist = [d_train, d_valid]\n",
    "def gini_normalized2(a, p):\n",
    "    return gini(a, p) / gini(a, a)\n",
    "\n",
    "def gini_lgb(preds, dtrain):\n",
    "    labels = dtrain.get_label()\n",
    "    gini_score = gini_normalized2(labels, preds)\n",
    "    return 'gini', gini_score, False\n",
    "\n",
    "\n",
    "params = {\n",
    "    'application': 'binary',\n",
    "    'objective': 'binary',\n",
    "    'metric': 'auc',\n",
    "    'is_unbalance': 'true',\n",
    "    'boosting': 'gbdt',\n",
    "    'num_leaves': 60,\n",
    "    'feature_fraction': 0.5,\n",
    "    'bagging_fraction': 0.5,\n",
    "    'learning_rate': 0.05,\n",
    "    'max_depth': 7,\n",
    "    'verbose': 0\n",
    "}\n",
    "\n",
    "\n",
    "\n",
    "print('Training LGBM model...')\n",
    "model = lgb.train(params, train_set=d_train, num_boost_round=100, valid_sets=watchlist, \n",
    "early_stopping_rounds=100, verbose_eval=10, feval=gini_lgb)\n",
    "print(\"End training\")\n",
    " "
   ]
  },
  {
   "cell_type": "code",
   "execution_count": 39,
   "metadata": {},
   "outputs": [
    {
     "name": "stdout",
     "output_type": "stream",
     "text": [
      "Resultado na base teste:\n"
     ]
    },
    {
     "data": {
      "text/plain": [
       "0.25987991222147361"
      ]
     },
     "execution_count": 39,
     "metadata": {},
     "output_type": "execute_result"
    }
   ],
   "source": [
    "print 'Resultado na base teste:'\n",
    "#dtest = lgb.Dataset(X_test_final, label=y_test) \n",
    "probs = model.predict(X_test_final_2)\n",
    "gini_normalized2(y_test, probs)"
   ]
  }
 ],
 "metadata": {
  "kernelspec": {
   "display_name": "Python 2",
   "language": "python",
   "name": "python2"
  },
  "language_info": {
   "codemirror_mode": {
    "name": "ipython",
    "version": 2
   },
   "file_extension": ".py",
   "mimetype": "text/x-python",
   "name": "python",
   "nbconvert_exporter": "python",
   "pygments_lexer": "ipython2",
   "version": "2.7.13"
  }
 },
 "nbformat": 4,
 "nbformat_minor": 2
}
